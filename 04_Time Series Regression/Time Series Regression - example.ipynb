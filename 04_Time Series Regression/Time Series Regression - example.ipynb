{
 "cells": [
  {
   "cell_type": "code",
   "execution_count": 8,
   "metadata": {},
   "outputs": [],
   "source": [
    "import pandas as pd\n",
    "import numpy as np\n",
    "import warnings\n",
    "import matplotlib.pyplot as plt\n",
    "\n",
    "# https://www.kaggle.com/code/sajikim/time-series-forecasting-methods-example-python/notebook\n",
    "\n",
    "warnings.simplefilter('ignore')\n",
    "\n",
    "# Common code for display result\n",
    "def show_graph(df1,df2,title):\n",
    "    data = pd.concat([df1, df2])\n",
    "    data.reset_index(inplace=True, drop=True)\n",
    "    for col in data.columns:\n",
    "        if col.lower().startswith('pred'):\n",
    "            data[col].plot(label=col,linestyle=\"dotted\")\n",
    "        else:\n",
    "            data[col].plot(label=col)\n",
    "    plt.title(title)\n",
    "    plt.legend()\n",
    "    plt.show()"
   ]
  },
  {
   "cell_type": "code",
   "execution_count": 9,
   "metadata": {},
   "outputs": [
    {
     "data": {
      "image/png": "[encoded data removed]",
      "text/plain": [
       "<Figure size 432x288 with 1 Axes>"
      ]
     },
     "metadata": {
      "needs_background": "light"
     },
     "output_type": "display_data"
    }
   ],
   "source": [
    "from statsmodels.tsa.statespace.varmax import VARMAX\n",
    "from random import random\n",
    "\n",
    "def VARMA_model(train,test):\n",
    "    # fit model\n",
    "    model = VARMAX(train, order=(1, 2))\n",
    "    model_fit = model.fit(disp=False)\n",
    "    # make prediction\n",
    "    yhat = model_fit.forecast(steps=len(test))\n",
    "    res=pd.DataFrame({\"Pred1\":yhat['Act1'], \"Pred2\":yhat['Act2'], \n",
    "                      \"Act1\":test[\"Act1\"].values, \"Act2\":test[\"Act2\"].values})\n",
    "    return res\n",
    "\n",
    "df_train = pd.DataFrame({'Act1':[x + random()*10 for x in range(0, 100)],\n",
    "                         'Act2':50+np.sin(np.linspace(0, 2*np.pi, 100))*50})\n",
    "df_test = pd.DataFrame({'Act1':[x + random()*10 for x in range(101, 201)],\n",
    "                         'Act2':50+np.sin(np.linspace(0, 2*np.pi, 100))*50})\n",
    "df_ret = VARMA_model(df_train, df_test)\n",
    "\n",
    "show_graph(df_train, df_ret, \"Vector Autoregression Moving-Average (VARMA)\")"
   ]
  },
  {
   "cell_type": "code",
   "execution_count": 10,
   "metadata": {},
   "outputs": [
    {
     "data": {
      "text/html": [
       "<div>\n",
       "<style scoped>\n",
       "    .dataframe tbody tr th:only-of-type {\n",
       "        vertical-align: middle;\n",
       "    }\n",
       "\n",
       "    .dataframe tbody tr th {\n",
       "        vertical-align: top;\n",
       "    }\n",
       "\n",
       "    .dataframe thead th {\n",
       "        text-align: right;\n",
       "    }\n",
       "</style>\n",
       "<table border=\"1\" class=\"dataframe\">\n",
       "  <thead>\n",
       "    <tr style=\"text-align: right;\">\n",
       "      <th></th>\n",
       "      <th>Act1</th>\n",
       "      <th>Act2</th>\n",
       "    </tr>\n",
       "  </thead>\n",
       "  <tbody>\n",
       "    <tr>\n",
       "      <th>0</th>\n",
       "      <td>107.143793</td>\n",
       "      <td>50.000000</td>\n",
       "    </tr>\n",
       "    <tr>\n",
       "      <th>1</th>\n",
       "      <td>106.387239</td>\n",
       "      <td>53.171196</td>\n",
       "    </tr>\n",
       "    <tr>\n",
       "      <th>2</th>\n",
       "      <td>111.515396</td>\n",
       "      <td>56.329623</td>\n",
       "    </tr>\n",
       "    <tr>\n",
       "      <th>3</th>\n",
       "      <td>106.021451</td>\n",
       "      <td>59.462562</td>\n",
       "    </tr>\n",
       "    <tr>\n",
       "      <th>4</th>\n",
       "      <td>109.782191</td>\n",
       "      <td>62.557399</td>\n",
       "    </tr>\n",
       "    <tr>\n",
       "      <th>...</th>\n",
       "      <td>...</td>\n",
       "      <td>...</td>\n",
       "    </tr>\n",
       "    <tr>\n",
       "      <th>95</th>\n",
       "      <td>197.024871</td>\n",
       "      <td>37.442601</td>\n",
       "    </tr>\n",
       "    <tr>\n",
       "      <th>96</th>\n",
       "      <td>197.464703</td>\n",
       "      <td>40.537438</td>\n",
       "    </tr>\n",
       "    <tr>\n",
       "      <th>97</th>\n",
       "      <td>200.056792</td>\n",
       "      <td>43.670377</td>\n",
       "    </tr>\n",
       "    <tr>\n",
       "      <th>98</th>\n",
       "      <td>202.617479</td>\n",
       "      <td>46.828804</td>\n",
       "    </tr>\n",
       "    <tr>\n",
       "      <th>99</th>\n",
       "      <td>208.424434</td>\n",
       "      <td>50.000000</td>\n",
       "    </tr>\n",
       "  </tbody>\n",
       "</table>\n",
       "<p>100 rows × 2 columns</p>\n",
       "</div>"
      ],
      "text/plain": [
       "          Act1       Act2\n",
       "0   107.143793  50.000000\n",
       "1   106.387239  53.171196\n",
       "2   111.515396  56.329623\n",
       "3   106.021451  59.462562\n",
       "4   109.782191  62.557399\n",
       "..         ...        ...\n",
       "95  197.024871  37.442601\n",
       "96  197.464703  40.537438\n",
       "97  200.056792  43.670377\n",
       "98  202.617479  46.828804\n",
       "99  208.424434  50.000000\n",
       "\n",
       "[100 rows x 2 columns]"
      ]
     },
     "execution_count": 10,
     "metadata": {},
     "output_type": "execute_result"
    }
   ],
   "source": [
    "df_test"
   ]
  },
  {
   "cell_type": "code",
   "execution_count": null,
   "metadata": {},
   "outputs": [],
   "source": []
  }
 ],
 "metadata": {
  "kernelspec": {
   "display_name": "Python 3",
   "language": "python",
   "name": "python3"
  },
  "language_info": {
   "codemirror_mode": {
    "name": "ipython",
    "version": 3
   },
   "file_extension": ".py",
   "mimetype": "text/x-python",
   "name": "python",
   "nbconvert_exporter": "python",
   "pygments_lexer": "ipython3",
   "version": "3.8.2"
  }
 },
 "nbformat": 4,
 "nbformat_minor": 4
}
