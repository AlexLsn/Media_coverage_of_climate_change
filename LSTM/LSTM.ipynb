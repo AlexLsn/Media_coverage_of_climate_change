{
 "cells": [
  {
   "cell_type": "code",
   "execution_count": 48,
   "metadata": {},
   "outputs": [],
   "source": [
    "import torch\n",
    "import torch\n",
    "import torch.nn as nn"
   ]
  },
  {
   "cell_type": "code",
   "execution_count": 44,
   "metadata": {},
   "outputs": [],
   "source": [
    "# model\n",
    "\n",
    "class Model(nn.Module):\n",
    "    \n",
    "    def __init__(self, input_size, hidden_size, output_size, num_layers):\n",
    "        \n",
    "        super(Model, self).__init__()\n",
    "        \n",
    "        self.input_size = input_size\n",
    "        self.hidden_size = hidden_size\n",
    "        self.output_size = output_size\n",
    "        self.num_layers = num_layers\n",
    "        \n",
    "        self.lstm = nn.LSTM(input_size, hidden_size, num_layers)\n",
    "        self.linear = nn.Linear(hidden_size, output_size)\n",
    "    \n",
    "    #  methods \n",
    "    def forward(self, x):\n",
    "        \n",
    "        x, _ = self.lstm(x)\n",
    "        x = self.linear(x)\n",
    "        \n",
    "        return x"
   ]
  },
  {
   "cell_type": "code",
   "execution_count": 45,
   "metadata": {},
   "outputs": [],
   "source": [
    "# example\n",
    "input_size=10\n",
    "hidden_size=8\n",
    "output_size=1\n",
    "num_layers=1\n",
    "\n",
    "model = Model(input_size, hidden_size, output_size, num_layers)\n",
    "x = torch.randn(5, 3, 10)\n",
    "\n",
    "# print(x)\n",
    "# print(model(x))"
   ]
  },
  {
   "cell_type": "code",
   "execution_count": 49,
   "metadata": {},
   "outputs": [
    {
     "data": {
      "text/plain": [
       "tensor([[[ 0.7649,  1.4987, -1.0790,  1.3874, -0.1234,  0.3514,  0.7222,\n",
       "           0.4757,  0.7722, -0.4934],\n",
       "         [-0.0788,  1.1366,  0.5112, -1.2250,  0.0643, -2.5275, -0.7666,\n",
       "           0.5233,  1.0671,  0.0572],\n",
       "         [-0.5987,  1.8833, -0.4170,  0.2113, -0.9367, -0.6826,  0.2550,\n",
       "           1.6717, -1.0244,  0.4215]],\n",
       "\n",
       "        [[ 0.6785,  2.5107, -0.4428, -0.5764,  0.6172, -0.0431,  0.0911,\n",
       "           2.0551,  1.1350, -0.2534],\n",
       "         [ 0.6188,  0.2115,  0.7544, -0.3657,  0.4894, -1.4946,  0.1428,\n",
       "          -0.5650, -0.0687, -2.4847],\n",
       "         [-0.5506,  1.1768, -0.4440,  0.7999, -0.2244,  1.3893, -0.6224,\n",
       "          -0.8153, -1.1204, -0.4295]],\n",
       "\n",
       "        [[-1.3975,  0.1931, -0.5847, -0.3839, -0.6738,  1.4096,  1.0689,\n",
       "           0.9297, -1.0152,  0.0345],\n",
       "         [ 0.1174, -1.3376,  0.6701, -0.3171,  0.3665, -1.1883, -1.0832,\n",
       "          -2.4120, -0.6343,  1.3714],\n",
       "         [ 0.2872, -0.2316,  0.5942, -0.4680, -2.5670,  0.3303, -1.5113,\n",
       "           0.9774, -0.6993,  0.9951]],\n",
       "\n",
       "        [[-1.1745, -0.6873,  1.1359, -0.0321, -1.1709, -1.0249,  0.8629,\n",
       "          -1.0959, -1.7765,  0.3725],\n",
       "         [ 0.3676,  1.9619,  0.0136,  0.2394, -0.1724, -0.3806, -0.3888,\n",
       "           0.7169, -0.1106, -1.4644],\n",
       "         [ 0.2471, -0.0285,  1.1730, -0.7414,  0.9416, -0.2574,  0.1540,\n",
       "           0.5036, -0.7816, -0.2311]],\n",
       "\n",
       "        [[-1.0369, -0.5586, -0.9580,  1.5739,  0.3011, -0.2566, -0.0632,\n",
       "          -0.6932,  1.8899,  0.1188],\n",
       "         [ 0.0213,  0.0735,  1.2118,  0.6182,  1.2631,  1.0873,  1.6206,\n",
       "          -1.5694,  0.6706, -0.5507],\n",
       "         [-1.1991,  0.3480, -0.1493,  0.5976, -0.9342,  0.1809, -0.1173,\n",
       "          -1.5472,  1.6375,  1.0590]]])"
      ]
     },
     "execution_count": 49,
     "metadata": {},
     "output_type": "execute_result"
    }
   ],
   "source": [
    "x"
   ]
  },
  {
   "cell_type": "code",
   "execution_count": 50,
   "metadata": {},
   "outputs": [
    {
     "data": {
      "text/plain": [
       "tensor([[[0.2904],\n",
       "         [0.2015],\n",
       "         [0.4274]],\n",
       "\n",
       "        [[0.3488],\n",
       "         [0.3885],\n",
       "         [0.3996]],\n",
       "\n",
       "        [[0.4723],\n",
       "         [0.3781],\n",
       "         [0.5476]],\n",
       "\n",
       "        [[0.5963],\n",
       "         [0.4292],\n",
       "         [0.4719]],\n",
       "\n",
       "        [[0.3290],\n",
       "         [0.4195],\n",
       "         [0.4424]]], grad_fn=<ViewBackward0>)"
      ]
     },
     "execution_count": 50,
     "metadata": {},
     "output_type": "execute_result"
    }
   ],
   "source": [
    "model(x)"
   ]
  },
  {
   "cell_type": "code",
   "execution_count": null,
   "metadata": {},
   "outputs": [],
   "source": [
    "# training\n",
    "\n",
    "import torch.optim as optim\n",
    "\n",
    "def run_epochs(model,loss_f,loader, max_epochs):    \n",
    "    \n",
    "    optimizer = optim.Adam(model.parameters())\n",
    "    \n",
    "    for epoch in range(max_epochs):\n",
    "        \n",
    "        model.train()\n",
    "        for X_batch, y_batch in loader:\n",
    "            \n",
    "            y_pred = modlel(X_batch)\n",
    "            loss = loss_f(y_pred, y_batch)\n",
    "            optimizer.zero_grad()\n",
    "            loss.backward()\n",
    "            optimizer.step()\n",
    "            \n",
    "            # validation\n",
    "            if epoch % 100 != 0:\n",
    "                continue\n",
    "            \n",
    "            model.eval()\n",
    "            with torch.no_grad():\n",
    "                \n",
    "                y_pred = model(X_train)\n",
    "                train_rmse = np.sqrt(loss_f(y_pred, y_train))\n",
    "                \n",
    "                y_pred = model(X_test)\n",
    "                test_rmse = np.sqrt(loss_fn(y_pred, y_test))\n",
    "                print(\"Epoch %d: train RMSE %.4f, test RMSE %.4f\" % (epoch, \n",
    "                                                                     train_rmse, \n",
    "                                                                     test_rmse))"
   ]
  },
  {
   "cell_type": "code",
   "execution_count": null,
   "metadata": {},
   "outputs": [],
   "source": [
    "# example\n",
    "\n",
    "loss_f = nn.MSELoss()"
   ]
  },
  {
   "cell_type": "code",
   "execution_count": null,
   "metadata": {},
   "outputs": [],
   "source": []
  },
  {
   "cell_type": "code",
   "execution_count": null,
   "metadata": {},
   "outputs": [],
   "source": []
  }
 ],
 "metadata": {
  "kernelspec": {
   "display_name": "Python 3",
   "language": "python",
   "name": "python3"
  },
  "language_info": {
   "codemirror_mode": {
    "name": "ipython",
    "version": 3
   },
   "file_extension": ".py",
   "mimetype": "text/x-python",
   "name": "python",
   "nbconvert_exporter": "python",
   "pygments_lexer": "ipython3",
   "version": "3.8.2"
  }
 },
 "nbformat": 4,
 "nbformat_minor": 4
}
