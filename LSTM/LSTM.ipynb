{
 "cells": [
  {
   "cell_type": "code",
   "execution_count": 2,
   "metadata": {},
   "outputs": [],
   "source": [
    "import torch\n",
    "import torch\n",
    "import torch.nn as nn"
   ]
  },
  {
   "cell_type": "code",
   "execution_count": 44,
   "metadata": {},
   "outputs": [],
   "source": [
    "# model\n",
    "\n",
    "class Model(nn.Module):\n",
    "    \n",
    "    def __init__(self, input_size, hidden_size, output_size, num_layers):\n",
    "        \n",
    "        super(Model, self).__init__()\n",
    "        \n",
    "        self.input_size = input_size\n",
    "        self.hidden_size = hidden_size\n",
    "        self.output_size = output_size\n",
    "        self.num_layers = num_layers\n",
    "        \n",
    "        self.lstm = nn.LSTM(input_size, hidden_size, num_layers)\n",
    "        self.linear = nn.Linear(hidden_size, output_size)\n",
    "    \n",
    "    #  methods \n",
    "    def forward(self, x):\n",
    "        \n",
    "        x, _ = self.lstm(x)\n",
    "        x = self.linear(x)\n",
    "        \n",
    "        return x"
   ]
  },
  {
   "cell_type": "code",
   "execution_count": 45,
   "metadata": {},
   "outputs": [],
   "source": [
    "# example\n",
    "input_size=10\n",
    "hidden_size=8\n",
    "output_size=1\n",
    "num_layers=1\n",
    "\n",
    "model = Model(input_size, hidden_size, output_size, num_layers)\n",
    "x = torch.randn(5, 3, 10)\n",
    "\n",
    "# print(x)\n",
    "# print(model(x))"
   ]
  },
  {
   "cell_type": "code",
   "execution_count": null,
   "metadata": {},
   "outputs": [],
   "source": [
    "# training\n",
    "\n",
    "import torch.optim as optim\n",
    "\n",
    "def run_epochs(model,loss_f,loader, max_epochs):    \n",
    "    \n",
    "    optimizer = optim.Adam(model.parameters())\n",
    "    \n",
    "    for epoch in range(max_epochs):\n",
    "        \n",
    "        model.train()\n",
    "        for X_batch, y_batch in loader:\n",
    "            \n",
    "            y_pred = modlel(X_batch)\n",
    "            loss = loss_f(y_pred, y_batch)\n",
    "            optimizer.zero_grad()\n",
    "            loss.backward()\n",
    "            optimizer.step()\n",
    "            \n",
    "            # validation\n",
    "            if epoch % 100 != 0:\n",
    "                continue\n",
    "            \n",
    "            model.eval()\n",
    "            with torch.no_grad():\n",
    "                \n",
    "                y_pred = model(X_train)\n",
    "                train_rmse = np.sqrt(loss_f(y_pred, y_train))\n",
    "                \n",
    "                y_pred = model(X_test)\n",
    "                test_rmse = np.sqrt(loss_fn(y_pred, y_test))\n",
    "                print(\"Epoch %d: train RMSE %.4f, test RMSE %.4f\" % (epoch, \n",
    "                                                                     train_rmse, \n",
    "                                                                     test_rmse))"
   ]
  },
  {
   "cell_type": "code",
   "execution_count": null,
   "metadata": {},
   "outputs": [],
   "source": [
    "# example\n",
    "\n",
    "loss_f = nn.MSELoss()"
   ]
  },
  {
   "cell_type": "code",
   "execution_count": null,
   "metadata": {},
   "outputs": [],
   "source": []
  },
  {
   "cell_type": "code",
   "execution_count": null,
   "metadata": {},
   "outputs": [],
   "source": []
  }
 ],
 "metadata": {
  "kernelspec": {
   "display_name": "Python 3",
   "language": "python",
   "name": "python3"
  },
  "language_info": {
   "codemirror_mode": {
    "name": "ipython",
    "version": 3
   },
   "file_extension": ".py",
   "mimetype": "text/x-python",
   "name": "python",
   "nbconvert_exporter": "python",
   "pygments_lexer": "ipython3",
   "version": "3.8.2"
  }
 },
 "nbformat": 4,
 "nbformat_minor": 4
}
