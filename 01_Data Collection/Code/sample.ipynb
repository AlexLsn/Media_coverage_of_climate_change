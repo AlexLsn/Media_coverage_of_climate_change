{
 "cells": [
  {
   "cell_type": "code",
   "execution_count": 6,
   "metadata": {},
   "outputs": [],
   "source": [
    "import requests\n",
    "from bs4 import BeautifulSoup\n",
    "\n",
    "from selenium import webdriver\n",
    "from selenium.webdriver.common.by import By\n",
    "from selenium.webdriver.support.select import Select\n",
    "\n",
    "import pandas as pd\n",
    "import re\n",
    "import time\n",
    "import numpy as np"
   ]
  },
  {
   "cell_type": "code",
   "execution_count": 2,
   "metadata": {},
   "outputs": [
    {
     "name": "stdout",
     "output_type": "stream",
     "text": [
      "Please enter your account(e-mail):1\n",
      "Please enter your password:1\n"
     ]
    }
   ],
   "source": [
    "email = input('Please enter your account(e-mail):')\n",
    "password = input('Please enter your password:')"
   ]
  },
  {
   "cell_type": "code",
   "execution_count": 79,
   "metadata": {},
   "outputs": [],
   "source": [
    "# go into the Eruopresse website\n",
    "url = \"https://acces-distant.sciencespo.fr/fork?https://nouveau.europresse.com/access/ip/default.aspx?un=politique2T_1\"\n",
    "driver = webdriver.Chrome()\n",
    "driver.get(url)\n",
    "driver.find_element(By.ID, 'username').send_keys(email)\n",
    "driver.find_element(By.ID, 'password').send_keys(password)\n",
    "time.sleep(3)\n",
    "driver.find_element(By.CLASS_NAME, 'btn-submit').click()"
   ]
  },
  {
   "cell_type": "code",
   "execution_count": 80,
   "metadata": {},
   "outputs": [],
   "source": [
    "# choose the criteria of searching\n",
    "driver.find_element(By.CLASS_NAME, 'lnk-text').click()\n",
    "time.sleep(3)\n",
    "driver.find_element(By.ID, 'specific-sources-rd').click()\n",
    "time.sleep(5)\n",
    "driver.find_element(By.ID, 'sf_247').click() # le monde\n",
    "\n",
    "driver.find_element(By.XPATH, '//textarea').send_keys('climat') # key words : climat"
   ]
  },
  {
   "cell_type": "code",
   "execution_count": 81,
   "metadata": {},
   "outputs": [],
   "source": [
    "# period: 1/oct/2022 - 1/dec/2022\n",
    "Select(driver.find_element(By.ID, 'DateFilter_DateRange')).select_by_value('10')\n",
    "\n",
    "Select(driver.find_elements(By.CLASS_NAME, 'year')[1]).select_by_value('2022')\n",
    "Select(driver.find_elements(By.CLASS_NAME, 'year')[2]).select_by_value('2022')\n",
    "\n",
    "Select(driver.find_elements(By.CLASS_NAME, 'month')[1]).select_by_value('10')\n",
    "Select(driver.find_elements(By.CLASS_NAME, 'month')[2]).select_by_value('12')\n",
    "\n",
    "Select(driver.find_elements(By.CLASS_NAME, 'day')[1]).select_by_value('1')\n",
    "Select(driver.find_elements(By.CLASS_NAME, 'day')[2]).select_by_value('1')"
   ]
  },
  {
   "cell_type": "code",
   "execution_count": 82,
   "metadata": {},
   "outputs": [],
   "source": [
    "driver.find_element(By.ID, 'btnSearch').click()"
   ]
  },
  {
   "cell_type": "code",
   "execution_count": 86,
   "metadata": {},
   "outputs": [],
   "source": [
    "def scrolling():\n",
    "    temp_height=0\n",
    " \n",
    "    while True:\n",
    "        \n",
    "        driver.execute_script(\"window.scrollBy(0,1000)\")\n",
    "    \n",
    "        check_height = driver.execute_script(\"return document.documentElement.scrollTop || window.pageYOffset || document.body.scrollTop;\")\n",
    "    \n",
    "        if check_height==temp_height:\n",
    "            break\n",
    "            \n",
    "        temp_height=check_height"
   ]
  },
  {
   "cell_type": "code",
   "execution_count": 87,
   "metadata": {},
   "outputs": [
    {
     "name": "stdout",
     "output_type": "stream",
     "text": [
      "scrolling  1  times\n",
      "scrolling  2  times\n",
      "scrolling  3  times\n",
      "scrolling  4  times\n",
      "scrolling  5  times\n",
      "scrolling  6  times\n",
      "scrolling  7  times\n",
      "scrolling  8  times\n",
      "scrolling  9  times\n",
      "scrolling  10  times\n"
     ]
    }
   ],
   "source": [
    "for i in range(10):\n",
    "    \n",
    "    scrolling() \n",
    "    time.sleep(3)\n",
    "    print('scrolling ', i+1, ' times' )"
   ]
  },
  {
   "cell_type": "code",
   "execution_count": 88,
   "metadata": {},
   "outputs": [],
   "source": [
    "web_content = driver.page_source\n",
    "obj = BeautifulSoup(web_content,'lxml').body\n",
    "obj = obj.aside.ul"
   ]
  },
  {
   "cell_type": "code",
   "execution_count": 89,
   "metadata": {},
   "outputs": [],
   "source": [
    "obj = obj.find_all(name='div', attrs={\"class\":\"docListItem msDocItem\"})"
   ]
  },
  {
   "cell_type": "code",
   "execution_count": 90,
   "metadata": {},
   "outputs": [],
   "source": [
    "def get_information():\n",
    "    \n",
    "    info = pd.DataFrame(columns = ['title', 'date', 'publication', 'words', 'author-intro'])\n",
    "    i = 0\n",
    "    \n",
    "    for obj_i in obj:\n",
    "        \n",
    "        obj_i = obj_i.div.next_sibling.next_sibling\n",
    "        \n",
    "        obj_i_1 = obj_i.div\n",
    "        obj_i_1 = obj_i_1.find_all(name='span', attrs={\"class\":\"source-name\"})[0]\n",
    "        obj_i_1 = str(obj_i_1)\n",
    "        publication_i = re.findall(r\"<span class=\\\"source-name\\\">(.+?)</span>\", obj_i_1)[0]\n",
    "        \n",
    "        obj_i_2 = obj_i.div.next_sibling.next_sibling\n",
    "        \n",
    "        title_i = obj_i_2.div.a\n",
    "        title_i = str(title_i)\n",
    "        title_i = re.findall(r\">(.+?)</a>\", title_i)[0]\n",
    "        \n",
    "        obj_i_3 = obj_i_2.div.next_sibling.next_sibling \n",
    "        \n",
    "        date_words_i = obj_i_3.div\n",
    "        date_words_i = str(date_words_i)\n",
    "        date_i = re.findall(r\"<span class=\\\"details\\\">(.+?)<span class=\", date_words_i)[0]\n",
    "        date_i = date_i.replace(' ', '')\n",
    "        \n",
    "        words_i = re.findall(r\"</span>(.+?)</span>\", date_words_i)[0]\n",
    "        words_i = words_i.replace(' ', '')\n",
    "        \n",
    "        author_intro_i = obj_i_3.div.next_sibling.next_sibling\n",
    "        author_intro_i = str(author_intro_i)\n",
    "        \n",
    "        info.loc[i] = [title_i, date_i, publication_i, words_i, author_intro_i]\n",
    "        i = i+1\n",
    "        \n",
    "    return info"
   ]
  },
  {
   "cell_type": "code",
   "execution_count": 165,
   "metadata": {},
   "outputs": [],
   "source": [
    "info = get_information()"
   ]
  },
  {
   "cell_type": "code",
   "execution_count": 166,
   "metadata": {},
   "outputs": [],
   "source": [
    "def clean_intro(x):\n",
    "    try:\n",
    "        x = x.split('<span class=\"doclist-author\">')[1]\n",
    "        author = x.split('</span>')[0]\n",
    "        x = x.split('</span>')[1]\n",
    "        \n",
    "    except:\n",
    "        x = x.split('</span> </span>')[1]\n",
    "        author = None\n",
    "    \n",
    "    x = x.split('</div>')[0]\n",
    "    x = re.sub(r\"<([a-z]+)>\",'',x)\n",
    "    x = re.sub(r\"</([a-z]+)>\",'',x)\n",
    "    x = re.sub('\\u200a','',x)\n",
    "    x = re.sub('-','',x)\n",
    "    \n",
    "    return author,x "
   ]
  },
  {
   "cell_type": "code",
   "execution_count": 167,
   "metadata": {},
   "outputs": [],
   "source": [
    "info['author-intro'] = info['author-intro'].apply(lambda x: clean_intro(x))"
   ]
  },
  {
   "cell_type": "code",
   "execution_count": 168,
   "metadata": {},
   "outputs": [],
   "source": [
    "info['author'] = info['author-intro'].apply(lambda x: x[0])\n",
    "info['intro'] = info['author-intro'].apply(lambda x: x[1])"
   ]
  },
  {
   "cell_type": "code",
   "execution_count": 169,
   "metadata": {},
   "outputs": [],
   "source": [
    "info = info[['date', 'publication', 'words', 'author', 'title', 'intro']]"
   ]
  },
  {
   "cell_type": "code",
   "execution_count": 170,
   "metadata": {},
   "outputs": [
    {
     "data": {
      "text/html": [
       "<div>\n",
       "<style scoped>\n",
       "    .dataframe tbody tr th:only-of-type {\n",
       "        vertical-align: middle;\n",
       "    }\n",
       "\n",
       "    .dataframe tbody tr th {\n",
       "        vertical-align: top;\n",
       "    }\n",
       "\n",
       "    .dataframe thead th {\n",
       "        text-align: right;\n",
       "    }\n",
       "</style>\n",
       "<table border=\"1\" class=\"dataframe\">\n",
       "  <thead>\n",
       "    <tr style=\"text-align: right;\">\n",
       "      <th></th>\n",
       "      <th>date</th>\n",
       "      <th>publication</th>\n",
       "      <th>words</th>\n",
       "      <th>author</th>\n",
       "      <th>title</th>\n",
       "      <th>intro</th>\n",
       "    </tr>\n",
       "  </thead>\n",
       "  <tbody>\n",
       "    <tr>\n",
       "      <th>373</th>\n",
       "      <td>2022-11-03</td>\n",
       "      <td>Le Monde</td>\n",
       "      <td>925mots</td>\n",
       "      <td>Richard Schittly</td>\n",
       "      <td>Meurtre par conjoint : débat complexe aux assises</td>\n",
       "      <td>...  par intermittence, sans leurs deux fi...</td>\n",
       "    </tr>\n",
       "    <tr>\n",
       "      <th>374</th>\n",
       "      <td>2022-11-22</td>\n",
       "      <td>Le Monde</td>\n",
       "      <td>617mots</td>\n",
       "      <td>None</td>\n",
       "      <td>La COP27, entre espoirs et désespoir</td>\n",
       "      <td>Le bilan des conférences mondiales sur...</td>\n",
       "    </tr>\n",
       "    <tr>\n",
       "      <th>375</th>\n",
       "      <td>2022-11-14</td>\n",
       "      <td>Le Monde</td>\n",
       "      <td>1221mots</td>\n",
       "      <td>propos recueillis parMathilde Gérard propos re...</td>\n",
       "      <td>Crise alimentaire : « le pire de la tempête » ...</td>\n",
       "      <td>...  16 novembre et de la COP27 ? Les diri...</td>\n",
       "    </tr>\n",
       "    <tr>\n",
       "      <th>376</th>\n",
       "      <td>2022-11-10</td>\n",
       "      <td>Le Monde</td>\n",
       "      <td>571mots</td>\n",
       "      <td>Roxana Azimi</td>\n",
       "      <td>Aurélie Filippetti va diriger les affaires cul...</td>\n",
       "      <td>...  de François Hollande, avait été salué...</td>\n",
       "    </tr>\n",
       "    <tr>\n",
       "      <th>377</th>\n",
       "      <td>2022-11-19</td>\n",
       "      <td>Le Monde</td>\n",
       "      <td>1028mots</td>\n",
       "      <td>Rémi Dupré</td>\n",
       "      <td>Affaire Santini : des enregistrements contre l...</td>\n",
       "      <td>...  le moindre comportement tel que décri...</td>\n",
       "    </tr>\n",
       "  </tbody>\n",
       "</table>\n",
       "</div>"
      ],
      "text/plain": [
       "           date publication     words  \\\n",
       "373  2022-11-03    Le Monde   925mots   \n",
       "374  2022-11-22    Le Monde   617mots   \n",
       "375  2022-11-14    Le Monde  1221mots   \n",
       "376  2022-11-10    Le Monde   571mots   \n",
       "377  2022-11-19    Le Monde  1028mots   \n",
       "\n",
       "                                                author  \\\n",
       "373                                   Richard Schittly   \n",
       "374                                               None   \n",
       "375  propos recueillis parMathilde Gérard propos re...   \n",
       "376                                       Roxana Azimi   \n",
       "377                                         Rémi Dupré   \n",
       "\n",
       "                                                 title  \\\n",
       "373  Meurtre par conjoint : débat complexe aux assises   \n",
       "374               La COP27, entre espoirs et désespoir   \n",
       "375  Crise alimentaire : « le pire de la tempête » ...   \n",
       "376  Aurélie Filippetti va diriger les affaires cul...   \n",
       "377  Affaire Santini : des enregistrements contre l...   \n",
       "\n",
       "                                                 intro  \n",
       "373      ...  par intermittence, sans leurs deux fi...  \n",
       "374          Le bilan des conférences mondiales sur...  \n",
       "375      ...  16 novembre et de la COP27 ? Les diri...  \n",
       "376      ...  de François Hollande, avait été salué...  \n",
       "377      ...  le moindre comportement tel que décri...  "
      ]
     },
     "execution_count": 170,
     "metadata": {},
     "output_type": "execute_result"
    }
   ],
   "source": [
    "info.tail()"
   ]
  },
  {
   "cell_type": "code",
   "execution_count": 174,
   "metadata": {},
   "outputs": [],
   "source": [
    "import os\n",
    "\n",
    "path = os.getcwd()\n",
    "path = re.sub('Code','Result',path)\n",
    "\n",
    "info.to_csv(path + '\\\\sample.csv')"
   ]
  },
  {
   "cell_type": "code",
   "execution_count": null,
   "metadata": {},
   "outputs": [],
   "source": []
  },
  {
   "cell_type": "code",
   "execution_count": null,
   "metadata": {},
   "outputs": [],
   "source": []
  }
 ],
 "metadata": {
  "kernelspec": {
   "display_name": "Python 3",
   "language": "python",
   "name": "python3"
  },
  "language_info": {
   "codemirror_mode": {
    "name": "ipython",
    "version": 3
   },
   "file_extension": ".py",
   "mimetype": "text/x-python",
   "name": "python",
   "nbconvert_exporter": "python",
   "pygments_lexer": "ipython3",
   "version": "3.8.2"
  }
 },
 "nbformat": 4,
 "nbformat_minor": 4
}
