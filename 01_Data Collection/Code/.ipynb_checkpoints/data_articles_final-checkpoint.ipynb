{
 "cells": [
  {
   "cell_type": "markdown",
   "metadata": {},
   "source": [
    "# Media coverage and climate change: datasets creation"
   ]
  },
  {
   "cell_type": "code",
   "execution_count": 3,
   "metadata": {
    "scrolled": true
   },
   "outputs": [],
   "source": [
    "import pandas as pd\n",
    "import numpy as np\n",
    "import glob\n",
    "import os\n",
    "import re"
   ]
  },
  {
   "cell_type": "markdown",
   "metadata": {},
   "source": [
    "### Example"
   ]
  },
  {
   "cell_type": "code",
   "execution_count": 35,
   "metadata": {},
   "outputs": [],
   "source": [
    "# import data and concatenate into one dataframe\n",
    "\n",
    "# write your own path\n",
    "# path = r'D:\\Alexandrine\\ENSAE\\PDSSS\\Projet-ENSAE-DSSS-main\\Projet-ENSAE-DSSS-main\\Data Collection\\Result\\data_raw_v2'\n",
    "path = os.getcwd()\n",
    "path = re.sub('Code','Result',path)\n",
    "path_read = path + '\\\\data_raw_v2\\\\Libération*.csv'\n",
    "path_write = path + '\\\\data_raw_final\\\\Libération.csv'\n",
    "\n",
    "all_files = glob.glob(path_read)"
   ]
  },
  {
   "cell_type": "code",
   "execution_count": 23,
   "metadata": {},
   "outputs": [],
   "source": [
    "li = []\n",
    "\n",
    "for filename in all_files:\n",
    "    # print(filename)\n",
    "    df = pd.read_csv(filename, index_col=0, header=0)\n",
    "    li.append(df)\n",
    "    \n",
    "data = pd.concat(li, axis=0, ignore_index=True)"
   ]
  },
  {
   "cell_type": "code",
   "execution_count": 26,
   "metadata": {},
   "outputs": [
    {
     "data": {
      "text/html": [
       "<div>\n",
       "<style scoped>\n",
       "    .dataframe tbody tr th:only-of-type {\n",
       "        vertical-align: middle;\n",
       "    }\n",
       "\n",
       "    .dataframe tbody tr th {\n",
       "        vertical-align: top;\n",
       "    }\n",
       "\n",
       "    .dataframe thead th {\n",
       "        text-align: right;\n",
       "    }\n",
       "</style>\n",
       "<table border=\"1\" class=\"dataframe\">\n",
       "  <thead>\n",
       "    <tr style=\"text-align: right;\">\n",
       "      <th></th>\n",
       "      <th>date</th>\n",
       "      <th>publication</th>\n",
       "      <th>words</th>\n",
       "      <th>author</th>\n",
       "      <th>title</th>\n",
       "      <th>intro</th>\n",
       "    </tr>\n",
       "  </thead>\n",
       "  <tbody>\n",
       "    <tr>\n",
       "      <th>1407</th>\n",
       "      <td>2022-09-19</td>\n",
       "      <td>Libération</td>\n",
       "      <td>1585mots</td>\n",
       "      <td>Par Judicaël Lavrador Envoyé spécial à Lyon</td>\n",
       "      <td>Biennale de Lyon Un bouquet de morose</td>\n",
       "      <td>... Réchauffement  climatique, resserrement ...</td>\n",
       "    </tr>\n",
       "    <tr>\n",
       "      <th>1408</th>\n",
       "      <td>2022-04-13</td>\n",
       "      <td>Libération</td>\n",
       "      <td>1525mots</td>\n",
       "      <td>Texte et photos Paul Boyer et Rémi Carton Envo...</td>\n",
       "      <td>MALAWI Avec les enfants des champs de tabac : ...</td>\n",
       "      <td>... 'étendent à perte de vue. En ce début d'...</td>\n",
       "    </tr>\n",
       "  </tbody>\n",
       "</table>\n",
       "</div>"
      ],
      "text/plain": [
       "            date publication     words  \\\n",
       "1407  2022-09-19  Libération  1585mots   \n",
       "1408  2022-04-13  Libération  1525mots   \n",
       "\n",
       "                                                 author  \\\n",
       "1407        Par Judicaël Lavrador Envoyé spécial à Lyon   \n",
       "1408  Texte et photos Paul Boyer et Rémi Carton Envo...   \n",
       "\n",
       "                                                  title  \\\n",
       "1407              Biennale de Lyon Un bouquet de morose   \n",
       "1408  MALAWI Avec les enfants des champs de tabac : ...   \n",
       "\n",
       "                                                  intro  \n",
       "1407    ... Réchauffement  climatique, resserrement ...  \n",
       "1408    ... 'étendent à perte de vue. En ce début d'...  "
      ]
     },
     "execution_count": 26,
     "metadata": {},
     "output_type": "execute_result"
    }
   ],
   "source": [
    "data.tail(2)"
   ]
  },
  {
   "cell_type": "code",
   "execution_count": 28,
   "metadata": {},
   "outputs": [],
   "source": [
    "data = data.drop_duplicates()"
   ]
  },
  {
   "cell_type": "code",
   "execution_count": 30,
   "metadata": {},
   "outputs": [
    {
     "name": "stderr",
     "output_type": "stream",
     "text": [
      "<ipython-input-30-a8a029ac3b09>:2: SettingWithCopyWarning: \n",
      "A value is trying to be set on a copy of a slice from a DataFrame.\n",
      "Try using .loc[row_indexer,col_indexer] = value instead\n",
      "\n",
      "See the caveats in the documentation: https://pandas.pydata.org/pandas-docs/stable/user_guide/indexing.html#returning-a-view-versus-a-copy\n",
      "  data['date'] = pd.to_datetime(data['date'])\n",
      "<ipython-input-30-a8a029ac3b09>:5: SettingWithCopyWarning: \n",
      "A value is trying to be set on a copy of a slice from a DataFrame\n",
      "\n",
      "See the caveats in the documentation: https://pandas.pydata.org/pandas-docs/stable/user_guide/indexing.html#returning-a-view-versus-a-copy\n",
      "  data.sort_values(by='date', inplace = True)\n"
     ]
    }
   ],
   "source": [
    "# convert dates to datetime type\n",
    "data['date'] = pd.to_datetime(data['date'])\n",
    "\n",
    "# sort by date\n",
    "data.sort_values(by='date', inplace = True) "
   ]
  },
  {
   "cell_type": "code",
   "execution_count": 32,
   "metadata": {},
   "outputs": [],
   "source": [
    "data = data.reset_index(drop=True)"
   ]
  },
  {
   "cell_type": "code",
   "execution_count": 34,
   "metadata": {},
   "outputs": [
    {
     "data": {
      "text/html": [
       "<div>\n",
       "<style scoped>\n",
       "    .dataframe tbody tr th:only-of-type {\n",
       "        vertical-align: middle;\n",
       "    }\n",
       "\n",
       "    .dataframe tbody tr th {\n",
       "        vertical-align: top;\n",
       "    }\n",
       "\n",
       "    .dataframe thead th {\n",
       "        text-align: right;\n",
       "    }\n",
       "</style>\n",
       "<table border=\"1\" class=\"dataframe\">\n",
       "  <thead>\n",
       "    <tr style=\"text-align: right;\">\n",
       "      <th></th>\n",
       "      <th>date</th>\n",
       "      <th>publication</th>\n",
       "      <th>words</th>\n",
       "      <th>author</th>\n",
       "      <th>title</th>\n",
       "      <th>intro</th>\n",
       "    </tr>\n",
       "  </thead>\n",
       "  <tbody>\n",
       "    <tr>\n",
       "      <th>1045</th>\n",
       "      <td>2022-12-31</td>\n",
       "      <td>Libération</td>\n",
       "      <td>712mots</td>\n",
       "      <td>Par Philippe Rahm</td>\n",
       "      <td>«Le béton, l'aluminium et les façades vitrées ...</td>\n",
       "      <td>...  nous ne renonçons à rien tant que les  ...</td>\n",
       "    </tr>\n",
       "    <tr>\n",
       "      <th>1046</th>\n",
       "      <td>2022-12-31</td>\n",
       "      <td>Libération</td>\n",
       "      <td>1956mots</td>\n",
       "      <td>Par ÈVE SZEFTEL</td>\n",
       "      <td>Contre le réchauffement, les villes en pleine ...</td>\n",
       "      <td>... «Libération» a recensé cinq expériences ...</td>\n",
       "    </tr>\n",
       "    <tr>\n",
       "      <th>1047</th>\n",
       "      <td>2022-12-31</td>\n",
       "      <td>Libération</td>\n",
       "      <td>1764mots</td>\n",
       "      <td>Par EVA FONTENEAU Correspondante à Bordeaux</td>\n",
       "      <td>Technologie Mettre du nouveau dans son vin</td>\n",
       "      <td>...  de nouveaux outils pour réduire son emp...</td>\n",
       "    </tr>\n",
       "  </tbody>\n",
       "</table>\n",
       "</div>"
      ],
      "text/plain": [
       "           date publication     words  \\\n",
       "1045 2022-12-31  Libération   712mots   \n",
       "1046 2022-12-31  Libération  1956mots   \n",
       "1047 2022-12-31  Libération  1764mots   \n",
       "\n",
       "                                           author  \\\n",
       "1045                            Par Philippe Rahm   \n",
       "1046                              Par ÈVE SZEFTEL   \n",
       "1047  Par EVA FONTENEAU Correspondante à Bordeaux   \n",
       "\n",
       "                                                  title  \\\n",
       "1045  «Le béton, l'aluminium et les façades vitrées ...   \n",
       "1046  Contre le réchauffement, les villes en pleine ...   \n",
       "1047         Technologie Mettre du nouveau dans son vin   \n",
       "\n",
       "                                                  intro  \n",
       "1045    ...  nous ne renonçons à rien tant que les  ...  \n",
       "1046    ... «Libération» a recensé cinq expériences ...  \n",
       "1047    ...  de nouveaux outils pour réduire son emp...  "
      ]
     },
     "execution_count": 34,
     "metadata": {},
     "output_type": "execute_result"
    }
   ],
   "source": [
    "data.tail(3)"
   ]
  },
  {
   "cell_type": "code",
   "execution_count": 36,
   "metadata": {},
   "outputs": [],
   "source": [
    "# list of dates\n",
    "# dates = list(lemonde_v2.date)\n",
    "# dates = np.unique(dates)\n",
    "data.to_csv(path_write)"
   ]
  },
  {
   "cell_type": "markdown",
   "metadata": {},
   "source": [
    "### Function"
   ]
  },
  {
   "cell_type": "code",
   "execution_count": 38,
   "metadata": {},
   "outputs": [],
   "source": [
    "# write a function to integrate data\n",
    "def summarize_article(journal_name):\n",
    "    \n",
    "    path = os.getcwd()\n",
    "    path = re.sub('Code','Result',path)\n",
    "    \n",
    "    path_read = path + '\\\\data_raw_v2\\\\'+ journal_name +'*.csv'\n",
    "    path_write = path + '\\\\data_raw_final\\\\'+ journal_name+'.csv'\n",
    "\n",
    "    all_files = glob.glob(path_read)\n",
    "    \n",
    "    li = []\n",
    "\n",
    "    for filename in all_files:\n",
    "        # print(filename)\n",
    "        df = pd.read_csv(filename, index_col=0, header=0)\n",
    "        li.append(df)\n",
    "        \n",
    "    data = pd.concat(li, axis=0, ignore_index=True)\n",
    "    data = data.drop_duplicates()\n",
    "    \n",
    "    # convert dates to datetime type\n",
    "    data['date'] = pd.to_datetime(data['date'])\n",
    "    # sort by date\n",
    "    data.sort_values(by='date', inplace = True)\n",
    "    \n",
    "    data = data.reset_index(drop=True)\n",
    "    \n",
    "    data.to_csv(path_write)\n",
    "    \n",
    "    return None"
   ]
  },
  {
   "cell_type": "markdown",
   "metadata": {},
   "source": [
    "### Libération"
   ]
  },
  {
   "cell_type": "code",
   "execution_count": 39,
   "metadata": {},
   "outputs": [],
   "source": [
    "summarize_article('Libération')"
   ]
  },
  {
   "cell_type": "markdown",
   "metadata": {},
   "source": [
    "### Les Echos"
   ]
  },
  {
   "cell_type": "code",
   "execution_count": 40,
   "metadata": {},
   "outputs": [],
   "source": [
    "summarize_article('Les Echos')"
   ]
  },
  {
   "cell_type": "markdown",
   "metadata": {},
   "source": [
    "### La Croix"
   ]
  },
  {
   "cell_type": "code",
   "execution_count": 41,
   "metadata": {},
   "outputs": [],
   "source": [
    "summarize_article('La Croix')"
   ]
  },
  {
   "cell_type": "markdown",
   "metadata": {},
   "source": [
    "### Le Monde"
   ]
  },
  {
   "cell_type": "code",
   "execution_count": 45,
   "metadata": {},
   "outputs": [],
   "source": [
    "summarize_article('Le Monde')"
   ]
  },
  {
   "cell_type": "markdown",
   "metadata": {},
   "source": [
    "### Le Figaro"
   ]
  },
  {
   "cell_type": "code",
   "execution_count": 43,
   "metadata": {},
   "outputs": [],
   "source": [
    "summarize_article('Le Figaro')"
   ]
  },
  {
   "cell_type": "markdown",
   "metadata": {},
   "source": [
    "### Le Parisien"
   ]
  },
  {
   "cell_type": "code",
   "execution_count": 44,
   "metadata": {},
   "outputs": [],
   "source": [
    "summarize_article('Le Parisien')"
   ]
  },
  {
   "cell_type": "markdown",
   "metadata": {},
   "source": [
    "### Le Monde - Basic analysis"
   ]
  },
  {
   "cell_type": "code",
   "execution_count": 47,
   "metadata": {},
   "outputs": [],
   "source": [
    "path = os.getcwd()\n",
    "path = re.sub('Code','Result',path)\n",
    "path = path + '\\\\data_raw_final\\\\Le Monde.csv'\n",
    "\n",
    "lemonde = pd.read_csv(path, index_col=0, header=0)"
   ]
  },
  {
   "cell_type": "code",
   "execution_count": 48,
   "metadata": {},
   "outputs": [
    {
     "data": {
      "text/html": [
       "<div>\n",
       "<style scoped>\n",
       "    .dataframe tbody tr th:only-of-type {\n",
       "        vertical-align: middle;\n",
       "    }\n",
       "\n",
       "    .dataframe tbody tr th {\n",
       "        vertical-align: top;\n",
       "    }\n",
       "\n",
       "    .dataframe thead th {\n",
       "        text-align: right;\n",
       "    }\n",
       "</style>\n",
       "<table border=\"1\" class=\"dataframe\">\n",
       "  <thead>\n",
       "    <tr style=\"text-align: right;\">\n",
       "      <th></th>\n",
       "      <th>date</th>\n",
       "      <th>publication</th>\n",
       "      <th>words</th>\n",
       "      <th>author</th>\n",
       "      <th>title</th>\n",
       "      <th>intro</th>\n",
       "    </tr>\n",
       "  </thead>\n",
       "  <tbody>\n",
       "    <tr>\n",
       "      <th>0</th>\n",
       "      <td>2013-01-05</td>\n",
       "      <td>Le Monde</td>\n",
       "      <td>401mots</td>\n",
       "      <td>Pierre Le Hir</td>\n",
       "      <td>Avec le réchauffement, les tourbières se trans...</td>\n",
       "      <td>...  pourraient se comporter non plus en pui...</td>\n",
       "    </tr>\n",
       "    <tr>\n",
       "      <th>1</th>\n",
       "      <td>2013-01-11</td>\n",
       "      <td>Le Monde</td>\n",
       "      <td>1066mots</td>\n",
       "      <td>Propos recueillis par Marie-Béatrice Baudet, D...</td>\n",
       "      <td>Christophe de Margerie : « Le changement clima...</td>\n",
       "      <td>...  population mondiale, 2 % des énergies p...</td>\n",
       "    </tr>\n",
       "    <tr>\n",
       "      <th>2</th>\n",
       "      <td>2013-01-16</td>\n",
       "      <td>Le Monde</td>\n",
       "      <td>324mots</td>\n",
       "      <td>P. L. H.</td>\n",
       "      <td>Transition énergétique : le clair-obscur de l'...</td>\n",
       "      <td>...  la transition énergétique n'a de vrai s...</td>\n",
       "    </tr>\n",
       "    <tr>\n",
       "      <th>3</th>\n",
       "      <td>2013-01-17</td>\n",
       "      <td>Le Monde</td>\n",
       "      <td>373mots</td>\n",
       "      <td>S. Fo.</td>\n",
       "      <td>Les particules du diesel et des feux de bois, ...</td>\n",
       "      <td>...  évaluation de la contribution des suies...</td>\n",
       "    </tr>\n",
       "    <tr>\n",
       "      <th>4</th>\n",
       "      <td>2013-01-23</td>\n",
       "      <td>Le Monde</td>\n",
       "      <td>604mots</td>\n",
       "      <td>Corine Lesnes</td>\n",
       "      <td>L'Amérique solidaire et égalitaire de M. Obama</td>\n",
       "      <td>... 'égalité pour les homosexuels dans un di...</td>\n",
       "    </tr>\n",
       "  </tbody>\n",
       "</table>\n",
       "</div>"
      ],
      "text/plain": [
       "         date publication     words  \\\n",
       "0  2013-01-05    Le Monde   401mots   \n",
       "1  2013-01-11    Le Monde  1066mots   \n",
       "2  2013-01-16    Le Monde   324mots   \n",
       "3  2013-01-17    Le Monde   373mots   \n",
       "4  2013-01-23    Le Monde   604mots   \n",
       "\n",
       "                                              author  \\\n",
       "0                                      Pierre Le Hir   \n",
       "1  Propos recueillis par Marie-Béatrice Baudet, D...   \n",
       "2                                           P. L. H.   \n",
       "3                                             S. Fo.   \n",
       "4                                      Corine Lesnes   \n",
       "\n",
       "                                               title  \\\n",
       "0  Avec le réchauffement, les tourbières se trans...   \n",
       "1  Christophe de Margerie : « Le changement clima...   \n",
       "2  Transition énergétique : le clair-obscur de l'...   \n",
       "3  Les particules du diesel et des feux de bois, ...   \n",
       "4     L'Amérique solidaire et égalitaire de M. Obama   \n",
       "\n",
       "                                               intro  \n",
       "0    ...  pourraient se comporter non plus en pui...  \n",
       "1    ...  population mondiale, 2 % des énergies p...  \n",
       "2    ...  la transition énergétique n'a de vrai s...  \n",
       "3    ...  évaluation de la contribution des suies...  \n",
       "4    ... 'égalité pour les homosexuels dans un di...  "
      ]
     },
     "execution_count": 48,
     "metadata": {},
     "output_type": "execute_result"
    }
   ],
   "source": [
    "lemonde.head()"
   ]
  },
  {
   "cell_type": "code",
   "execution_count": 28,
   "metadata": {},
   "outputs": [],
   "source": [
    "# you may need to change the following code\n",
    "\n",
    "lemonde['year'] = lemonde_all['year'].astype(str)\n",
    "lemonde['month'] = lemonde_all['month'].astype(str)"
   ]
  },
  {
   "cell_type": "code",
   "execution_count": 37,
   "metadata": {},
   "outputs": [],
   "source": [
    "lemonde_all['date'] = lemonde_all['year'].str.cat(lemonde_all['month'], sep='-')\n",
    "lemonde_all['date'] = pd.to_datetime(lemonde_all['date']).dt.strftime('%Y-%m')\n",
    "del lemonde_all['year']\n",
    "del lemonde_all['month']"
   ]
  },
  {
   "cell_type": "code",
   "execution_count": 13,
   "metadata": {},
   "outputs": [
    {
     "data": {
      "text/html": [
       "<div>\n",
       "<style scoped>\n",
       "    .dataframe tbody tr th:only-of-type {\n",
       "        vertical-align: middle;\n",
       "    }\n",
       "\n",
       "    .dataframe tbody tr th {\n",
       "        vertical-align: top;\n",
       "    }\n",
       "\n",
       "    .dataframe thead th {\n",
       "        text-align: right;\n",
       "    }\n",
       "</style>\n",
       "<table border=\"1\" class=\"dataframe\">\n",
       "  <thead>\n",
       "    <tr style=\"text-align: right;\">\n",
       "      <th></th>\n",
       "      <th>year</th>\n",
       "      <th>month</th>\n",
       "      <th>number</th>\n",
       "    </tr>\n",
       "  </thead>\n",
       "  <tbody>\n",
       "    <tr>\n",
       "      <th>0</th>\n",
       "      <td>2013</td>\n",
       "      <td>1</td>\n",
       "      <td>3120</td>\n",
       "    </tr>\n",
       "    <tr>\n",
       "      <th>1</th>\n",
       "      <td>2013</td>\n",
       "      <td>2</td>\n",
       "      <td>3145</td>\n",
       "    </tr>\n",
       "    <tr>\n",
       "      <th>2</th>\n",
       "      <td>2013</td>\n",
       "      <td>3</td>\n",
       "      <td>3512</td>\n",
       "    </tr>\n",
       "  </tbody>\n",
       "</table>\n",
       "</div>"
      ],
      "text/plain": [
       "   year  month  number\n",
       "0  2013      1    3120\n",
       "1  2013      2    3145\n",
       "2  2013      3    3512"
      ]
     },
     "execution_count": 13,
     "metadata": {},
     "output_type": "execute_result"
    }
   ],
   "source": [
    "lemonde_all.head(3)"
   ]
  },
  {
   "cell_type": "code",
   "execution_count": 39,
   "metadata": {},
   "outputs": [],
   "source": [
    "lemonde_all.to_csv('lemonde_all.csv', index=False)"
   ]
  }
 ],
 "metadata": {
  "kernelspec": {
   "display_name": "Python 3",
   "language": "python",
   "name": "python3"
  },
  "language_info": {
   "codemirror_mode": {
    "name": "ipython",
    "version": 3
   },
   "file_extension": ".py",
   "mimetype": "text/x-python",
   "name": "python",
   "nbconvert_exporter": "python",
   "pygments_lexer": "ipython3",
   "version": "3.8.2"
  }
 },
 "nbformat": 4,
 "nbformat_minor": 4
}
