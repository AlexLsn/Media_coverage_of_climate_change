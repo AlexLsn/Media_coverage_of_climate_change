{
 "cells": [
  {
   "cell_type": "code",
   "execution_count": 1,
   "metadata": {},
   "outputs": [],
   "source": [
    "import requests\n",
    "import calendar\n",
    "from bs4 import BeautifulSoup\n",
    "\n",
    "from selenium import webdriver\n",
    "from selenium.webdriver.common.by import By\n",
    "from selenium.webdriver.support.select import Select\n",
    "from webdriver_manager.chrome import ChromeDriverManager\n",
    "\n",
    "import pandas as pd\n",
    "import os\n",
    "import re\n",
    "import time\n",
    "import numpy as np"
   ]
  },
  {
   "cell_type": "code",
   "execution_count": 2,
   "metadata": {},
   "outputs": [],
   "source": [
    "#####       example       #####\n",
    "\n",
    "email = 'xianlin.ding@sciencespo.fr'\n",
    "password = '099115Keep12??'\n",
    "path = os.getcwd()\n",
    "path = re.sub('Code','Result',path)"
   ]
  },
  {
   "cell_type": "code",
   "execution_count": 3,
   "metadata": {},
   "outputs": [
    {
     "name": "stderr",
     "output_type": "stream",
     "text": [
      "<ipython-input-3-4fdf21dd8406>:3: DeprecationWarning: executable_path has been deprecated, please pass in a Service object\n",
      "  driver = webdriver.Chrome(ChromeDriverManager().install())\n"
     ]
    }
   ],
   "source": [
    "# go into the Eruopresse website\n",
    "url = \"https://acces-distant.sciencespo.fr/fork?https://nouveau.europresse.com/access/ip/default.aspx?un=politique2T_1\"\n",
    "driver = webdriver.Chrome(ChromeDriverManager().install())\n",
    "driver.get(url)\n",
    "driver.find_element(By.ID, 'username').send_keys(email)\n",
    "driver.find_element(By.ID, 'password').send_keys(password)\n",
    "time.sleep(3)\n",
    "driver.find_element(By.CLASS_NAME, 'btn-submit').click()"
   ]
  },
  {
   "cell_type": "code",
   "execution_count": 4,
   "metadata": {},
   "outputs": [],
   "source": [
    "# choose the criteria of searching\n",
    "driver.find_element(By.CLASS_NAME, 'lnk-text').click()\n",
    "time.sleep(3)\n",
    "driver.find_element(By.ID, 'specific-sources-rd').click()\n",
    "time.sleep(5)\n",
    "driver.find_element(By.ID, 'sf_247').click() # le monde"
   ]
  },
  {
   "cell_type": "code",
   "execution_count": 5,
   "metadata": {},
   "outputs": [],
   "source": [
    "# period: 1/oct/2022 - 1/dec/2022\n",
    "Select(driver.find_element(By.ID, 'DateFilter_DateRange')).select_by_value('10')\n",
    "\n",
    "Select(driver.find_elements(By.CLASS_NAME, 'year')[1]).select_by_value('2022')\n",
    "Select(driver.find_elements(By.CLASS_NAME, 'year')[2]).select_by_value('2022')\n",
    "\n",
    "Select(driver.find_elements(By.CLASS_NAME, 'month')[1]).select_by_value('10')\n",
    "Select(driver.find_elements(By.CLASS_NAME, 'month')[2]).select_by_value('12')\n",
    "\n",
    "Select(driver.find_elements(By.CLASS_NAME, 'day')[1]).select_by_value('1')\n",
    "Select(driver.find_elements(By.CLASS_NAME, 'day')[2]).select_by_value('1')"
   ]
  },
  {
   "cell_type": "code",
   "execution_count": 6,
   "metadata": {},
   "outputs": [],
   "source": [
    "driver.find_element(By.ID, 'btnSearch').click()"
   ]
  },
  {
   "cell_type": "code",
   "execution_count": 12,
   "metadata": {},
   "outputs": [],
   "source": [
    "# get web contents\n",
    "web_content = driver.page_source\n",
    "obj = BeautifulSoup(web_content,'lxml').body\n",
    "obj = obj.aside.div.div.div.div.div\n",
    "obj = obj.find_all(name='span', attrs={\"class\":\"resultOperations-count\"})[0]\n",
    "obj = int(re.sub(r'\\xa0','',obj.contents[0]))\n",
    "obj"
   ]
  },
  {
   "cell_type": "code",
   "execution_count": null,
   "metadata": {},
   "outputs": [],
   "source": [
    "driver.back()"
   ]
  },
  {
   "cell_type": "code",
   "execution_count": 14,
   "metadata": {},
   "outputs": [],
   "source": [
    "#####       actual scraping       #####\n",
    "\n",
    "# define the function\n",
    "\n",
    "def scrape_all_articles(journal_code, year_start, year_end):\n",
    "    \n",
    "    year = list(range(year_start,year_end+1))\n",
    "    month = list(range(1,13))\n",
    "    \n",
    "    info = pd.DataFrame(columns = ['year', 'month', 'number'])\n",
    "    i=0\n",
    "    for year_i in year:\n",
    "        for month_i in month:\n",
    "            \n",
    "            while True:\n",
    "                try:\n",
    "                    obj = scrape(journal_code, year_i, month_i)\n",
    "                    break\n",
    "                except:\n",
    "                    print('Maximum access times reach, sleep 5 minutes.')\n",
    "                    time.sleep(300)    \n",
    "            \n",
    "            info.loc[i] = [year_i, month_i, obj]\n",
    "            print('Year ', year_i,', Month ', month_i, ', ', obj, ' finished.')\n",
    "            i=i+1\n",
    "            \n",
    "            \n",
    "    return info\n"
   ]
  },
  {
   "cell_type": "code",
   "execution_count": 15,
   "metadata": {},
   "outputs": [],
   "source": [
    "def scrape(journal_code, year_i, month_i):\n",
    "    \n",
    "    email = 'xianlin.ding@sciencespo.fr'\n",
    "    password = '099115Keep12??'\n",
    "    \n",
    "    # go into the Eruopresse website\n",
    "    url = \"https://acces-distant.sciencespo.fr/fork?https://nouveau.europresse.com/access/ip/default.aspx?un=politique2T_1\"\n",
    "    driver = webdriver.Chrome(ChromeDriverManager().install())\n",
    "    driver.get(url)\n",
    "    driver.find_element(By.ID, 'username').send_keys(email)\n",
    "    driver.find_element(By.ID, 'password').send_keys(password)\n",
    "    time.sleep(3)\n",
    "    driver.find_element(By.CLASS_NAME, 'btn-submit').click()\n",
    "    \n",
    "    # choose the criteria of searching\n",
    "    driver.find_element(By.CLASS_NAME, 'lnk-text').click()\n",
    "    time.sleep(3)\n",
    "    driver.find_element(By.ID, 'specific-sources-rd').click()\n",
    "    time.sleep(5)\n",
    "            \n",
    "    # choose the journal\n",
    "    try:\n",
    "        driver.find_element(By.ID, journal_code).click()\n",
    "    except:\n",
    "        time.sleep(20)\n",
    "        driver.find_element(By.ID, journal_code).click()\n",
    "                \n",
    "    # choose the searching period\n",
    "    day_start = 1\n",
    "    day_end = calendar.monthrange(year_i,month_i)[1]\n",
    "    \n",
    "    Select(driver.find_element(By.ID, 'DateFilter_DateRange')).select_by_value('10')\n",
    "\n",
    "    Select(driver.find_elements(By.CLASS_NAME, 'year')[1]).select_by_value(str(year_i))\n",
    "    Select(driver.find_elements(By.CLASS_NAME, 'year')[2]).select_by_value(str(year_i))\n",
    "    \n",
    "    Select(driver.find_elements(By.CLASS_NAME, 'day')[1]).select_by_value(str(day_start))\n",
    "    Select(driver.find_elements(By.CLASS_NAME, 'day')[2]).select_by_value(str(day_end))\n",
    "    \n",
    "    Select(driver.find_elements(By.CLASS_NAME, 'month')[1]).select_by_value(str(month_i))\n",
    "    Select(driver.find_elements(By.CLASS_NAME, 'month')[2]).select_by_value(str(month_i))      \n",
    "            \n",
    "    driver.find_element(By.ID, 'btnSearch').click()\n",
    "    time.sleep(5)\n",
    "    \n",
    "    # get web contents\n",
    "    web_content = driver.page_source\n",
    "    obj = BeautifulSoup(web_content,'lxml').body\n",
    "    obj = obj.aside.div.div.div.div.div\n",
    "    obj = obj.find_all(name='span', attrs={\"class\":\"resultOperations-count\"})[0]\n",
    "    obj = int(re.sub(r'\\xa0','',obj.contents[0]))\n",
    "    \n",
    "    driver.close()\n",
    "    \n",
    "    return obj\n"
   ]
  },
  {
   "cell_type": "code",
   "execution_count": 16,
   "metadata": {},
   "outputs": [],
   "source": [
    "# Le Monde\n",
    "journal_code = 'sf_247'"
   ]
  },
  {
   "cell_type": "code",
   "execution_count": 17,
   "metadata": {
    "scrolled": false
   },
   "outputs": [
    {
     "name": "stderr",
     "output_type": "stream",
     "text": [
      "<ipython-input-15-9212e9685e63>:8: DeprecationWarning: executable_path has been deprecated, please pass in a Service object\n",
      "  driver = webdriver.Chrome(ChromeDriverManager().install())\n"
     ]
    },
    {
     "name": "stdout",
     "output_type": "stream",
     "text": [
      "Year  2013 , Month  1 ,  3120  finished.\n",
      "Year  2013 , Month  2 ,  3145  finished.\n",
      "Year  2013 , Month  3 ,  3512  finished.\n",
      "Year  2013 , Month  4 ,  3196  finished.\n",
      "Year  2013 , Month  5 ,  3451  finished.\n",
      "Year  2013 , Month  6 ,  3291  finished.\n",
      "Year  2013 , Month  7 ,  2997  finished.\n",
      "Year  2013 , Month  8 ,  2417  finished.\n",
      "Year  2013 , Month  9 ,  3078  finished.\n",
      "Maximum access times reach, sleep 5 minutes.\n",
      "Maximum access times reach, sleep 5 minutes.\n",
      "Year  2013 , Month  10 ,  3195  finished.\n",
      "Year  2013 , Month  11 ,  3158  finished.\n",
      "Year  2013 , Month  12 ,  2862  finished.\n",
      "Year  2014 , Month  1 ,  2862  finished.\n",
      "Year  2014 , Month  2 ,  2826  finished.\n",
      "Maximum access times reach, sleep 5 minutes.\n",
      "Year  2014 , Month  3 ,  3255  finished.\n",
      "Year  2014 , Month  4 ,  3589  finished.\n",
      "Year  2014 , Month  5 ,  5084  finished.\n",
      "Year  2014 , Month  6 ,  4948  finished.\n",
      "Year  2014 , Month  7 ,  4799  finished.\n",
      "Year  2014 , Month  8 ,  4022  finished.\n",
      "Year  2014 , Month  9 ,  5924  finished.\n",
      "Year  2014 , Month  10 ,  8593  finished.\n",
      "Year  2014 , Month  11 ,  7879  finished.\n",
      "Year  2014 , Month  12 ,  3605  finished.\n",
      "Year  2015 , Month  1 ,  3300  finished.\n",
      "Year  2015 , Month  2 ,  3218  finished.\n",
      "Year  2015 , Month  3 ,  3785  finished.\n",
      "Year  2015 , Month  4 ,  3410  finished.\n",
      "Year  2015 , Month  5 ,  3299  finished.\n",
      "Year  2015 , Month  6 ,  3382  finished.\n",
      "Maximum access times reach, sleep 5 minutes.\n",
      "Year  2015 , Month  7 ,  3035  finished.\n",
      "Year  2015 , Month  8 ,  2399  finished.\n",
      "Year  2015 , Month  9 ,  3596  finished.\n",
      "Year  2015 , Month  10 ,  3693  finished.\n",
      "Year  2015 , Month  11 ,  3256  finished.\n",
      "Year  2015 , Month  12 ,  3474  finished.\n",
      "Year  2016 , Month  1 ,  3188  finished.\n",
      "Year  2016 , Month  2 ,  3138  finished.\n",
      "Maximum access times reach, sleep 5 minutes.\n",
      "Year  2016 , Month  3 ,  3448  finished.\n",
      "Year  2016 , Month  4 ,  3310  finished.\n",
      "Year  2016 , Month  5 ,  3619  finished.\n",
      "Year  2016 , Month  6 ,  3688  finished.\n",
      "Year  2016 , Month  7 ,  3027  finished.\n",
      "Maximum access times reach, sleep 5 minutes.\n",
      "Maximum access times reach, sleep 5 minutes.\n",
      "Year  2016 , Month  8 ,  2555  finished.\n",
      "Year  2016 , Month  9 ,  3525  finished.\n",
      "Year  2016 , Month  10 ,  3358  finished.\n",
      "Year  2016 , Month  11 ,  3377  finished.\n",
      "Year  2016 , Month  12 ,  3490  finished.\n",
      "Year  2017 , Month  1 ,  3259  finished.\n",
      "Maximum access times reach, sleep 5 minutes.\n",
      "Year  2017 , Month  2 ,  3150  finished.\n",
      "Year  2017 , Month  3 ,  3700  finished.\n",
      "Year  2017 , Month  4 ,  3464  finished.\n",
      "Year  2017 , Month  5 ,  3837  finished.\n",
      "Year  2017 , Month  6 ,  3793  finished.\n",
      "Year  2017 , Month  7 ,  2910  finished.\n",
      "Year  2017 , Month  8 ,  2404  finished.\n",
      "Year  2017 , Month  9 ,  3729  finished.\n",
      "Maximum access times reach, sleep 5 minutes.\n",
      "Year  2017 , Month  10 ,  3348  finished.\n",
      "Year  2017 , Month  11 ,  3392  finished.\n",
      "Year  2017 , Month  12 ,  3442  finished.\n",
      "Year  2018 , Month  1 ,  3382  finished.\n",
      "Year  2018 , Month  2 ,  3271  finished.\n",
      "Maximum access times reach, sleep 5 minutes.\n",
      "Year  2018 , Month  3 ,  3758  finished.\n",
      "Year  2018 , Month  4 ,  3272  finished.\n",
      "Year  2018 , Month  5 ,  3629  finished.\n",
      "Maximum access times reach, sleep 5 minutes.\n",
      "Year  2018 , Month  6 ,  3918  finished.\n",
      "Year  2018 , Month  7 ,  2874  finished.\n",
      "Year  2018 , Month  8 ,  2495  finished.\n",
      "Year  2018 , Month  9 ,  3512  finished.\n",
      "Year  2018 , Month  10 ,  3584  finished.\n",
      "Year  2018 , Month  11 ,  3468  finished.\n",
      "Year  2018 , Month  12 ,  3440  finished.\n",
      "Year  2019 , Month  1 ,  4374  finished.\n",
      "Year  2019 , Month  2 ,  3214  finished.\n",
      "Maximum access times reach, sleep 5 minutes.\n",
      "Year  2019 , Month  3 ,  3311  finished.\n",
      "Year  2019 , Month  4 ,  2751  finished.\n",
      "Year  2019 , Month  5 ,  2381  finished.\n",
      "Year  2019 , Month  6 ,  2242  finished.\n",
      "Maximum access times reach, sleep 5 minutes.\n",
      "Year  2019 , Month  7 ,  2082  finished.\n",
      "Year  2019 , Month  8 ,  1757  finished.\n",
      "Year  2019 , Month  9 ,  2379  finished.\n",
      "Year  2019 , Month  10 ,  2532  finished.\n",
      "Year  2019 , Month  11 ,  2122  finished.\n",
      "Year  2019 , Month  12 ,  2197  finished.\n",
      "Year  2020 , Month  1 ,  2280  finished.\n",
      "Year  2020 , Month  2 ,  2288  finished.\n",
      "Year  2020 , Month  3 ,  2067  finished.\n",
      "Year  2020 , Month  4 ,  1755  finished.\n",
      "Year  2020 , Month  5 ,  1762  finished.\n",
      "Year  2020 , Month  6 ,  2038  finished.\n",
      "Year  2020 , Month  7 ,  1825  finished.\n",
      "Year  2020 , Month  8 ,  1496  finished.\n",
      "Year  2020 , Month  9 ,  2311  finished.\n",
      "Year  2020 , Month  10 ,  2336  finished.\n",
      "Maximum access times reach, sleep 5 minutes.\n",
      "Year  2020 , Month  11 ,  1957  finished.\n",
      "Year  2020 , Month  12 ,  2103  finished.\n",
      "Year  2021 , Month  1 ,  2097  finished.\n"
     ]
    },
    {
     "name": "stderr",
     "output_type": "stream",
     "text": [
      "[WDM] - Downloading: 100%|████████████████████████████████████████████████████████| 6.79M/6.79M [00:00<00:00, 39.1MB/s]\n"
     ]
    },
    {
     "name": "stdout",
     "output_type": "stream",
     "text": [
      "Year  2021 , Month  2 ,  2012  finished.\n",
      "Year  2021 , Month  3 ,  2257  finished.\n",
      "Year  2021 , Month  4 ,  2140  finished.\n",
      "Year  2021 , Month  5 ,  2023  finished.\n",
      "Year  2021 , Month  6 ,  2537  finished.\n",
      "Maximum access times reach, sleep 5 minutes.\n",
      "Year  2021 , Month  7 ,  2057  finished.\n",
      "Year  2021 , Month  8 ,  1527  finished.\n",
      "Year  2021 , Month  9 ,  2322  finished.\n",
      "Year  2021 , Month  10 ,  2430  finished.\n",
      "Year  2021 , Month  11 ,  2166  finished.\n",
      "Year  2021 , Month  12 ,  2241  finished.\n",
      "Year  2022 , Month  1 ,  2142  finished.\n",
      "Year  2022 , Month  2 ,  2120  finished.\n",
      "Year  2022 , Month  3 ,  2439  finished.\n",
      "Year  2022 , Month  4 ,  2555  finished.\n",
      "Year  2022 , Month  5 ,  2229  finished.\n",
      "Year  2022 , Month  6 ,  2534  finished.\n",
      "Year  2022 , Month  7 ,  1919  finished.\n",
      "Year  2022 , Month  8 ,  1561  finished.\n",
      "Year  2022 , Month  9 ,  2335  finished.\n",
      "Year  2022 , Month  10 ,  2329  finished.\n",
      "Year  2022 , Month  11 ,  2192  finished.\n",
      "Year  2022 , Month  12 ,  2079  finished.\n"
     ]
    }
   ],
   "source": [
    "info = scrape_all_articles(journal_code, 2013, 2022)"
   ]
  },
  {
   "cell_type": "code",
   "execution_count": 19,
   "metadata": {},
   "outputs": [
    {
     "data": {
      "text/html": [
       "<div>\n",
       "<style scoped>\n",
       "    .dataframe tbody tr th:only-of-type {\n",
       "        vertical-align: middle;\n",
       "    }\n",
       "\n",
       "    .dataframe tbody tr th {\n",
       "        vertical-align: top;\n",
       "    }\n",
       "\n",
       "    .dataframe thead th {\n",
       "        text-align: right;\n",
       "    }\n",
       "</style>\n",
       "<table border=\"1\" class=\"dataframe\">\n",
       "  <thead>\n",
       "    <tr style=\"text-align: right;\">\n",
       "      <th></th>\n",
       "      <th>year</th>\n",
       "      <th>month</th>\n",
       "      <th>number</th>\n",
       "    </tr>\n",
       "  </thead>\n",
       "  <tbody>\n",
       "    <tr>\n",
       "      <th>115</th>\n",
       "      <td>2022</td>\n",
       "      <td>8</td>\n",
       "      <td>1561</td>\n",
       "    </tr>\n",
       "    <tr>\n",
       "      <th>116</th>\n",
       "      <td>2022</td>\n",
       "      <td>9</td>\n",
       "      <td>2335</td>\n",
       "    </tr>\n",
       "    <tr>\n",
       "      <th>117</th>\n",
       "      <td>2022</td>\n",
       "      <td>10</td>\n",
       "      <td>2329</td>\n",
       "    </tr>\n",
       "    <tr>\n",
       "      <th>118</th>\n",
       "      <td>2022</td>\n",
       "      <td>11</td>\n",
       "      <td>2192</td>\n",
       "    </tr>\n",
       "    <tr>\n",
       "      <th>119</th>\n",
       "      <td>2022</td>\n",
       "      <td>12</td>\n",
       "      <td>2079</td>\n",
       "    </tr>\n",
       "  </tbody>\n",
       "</table>\n",
       "</div>"
      ],
      "text/plain": [
       "     year month number\n",
       "115  2022     8   1561\n",
       "116  2022     9   2335\n",
       "117  2022    10   2329\n",
       "118  2022    11   2192\n",
       "119  2022    12   2079"
      ]
     },
     "execution_count": 19,
     "metadata": {},
     "output_type": "execute_result"
    }
   ],
   "source": [
    "info.tail()"
   ]
  },
  {
   "cell_type": "code",
   "execution_count": 20,
   "metadata": {},
   "outputs": [],
   "source": [
    "path = os.getcwd()\n",
    "path = re.sub('Code','Result',path)\n",
    "info.to_csv(path + '\\\\data_raw_v2\\\\'+ 'Le Monde_All' + '.csv')"
   ]
  },
  {
   "cell_type": "code",
   "execution_count": 13,
   "metadata": {},
   "outputs": [
    {
     "name": "stderr",
     "output_type": "stream",
     "text": [
      "<ipython-input-12-9212e9685e63>:8: DeprecationWarning: executable_path has been deprecated, please pass in a Service object\n",
      "  driver = webdriver.Chrome(ChromeDriverManager().install())\n"
     ]
    },
    {
     "data": {
      "text/plain": [
       "3218"
      ]
     },
     "execution_count": 13,
     "metadata": {},
     "output_type": "execute_result"
    }
   ],
   "source": [
    "# scrape('sf_247', 2015, 2)"
   ]
  },
  {
   "cell_type": "code",
   "execution_count": null,
   "metadata": {},
   "outputs": [],
   "source": []
  },
  {
   "cell_type": "code",
   "execution_count": null,
   "metadata": {},
   "outputs": [],
   "source": []
  },
  {
   "cell_type": "code",
   "execution_count": 44,
   "metadata": {},
   "outputs": [
    {
     "data": {
      "text/plain": [
       "(4, 28)"
      ]
     },
     "execution_count": 44,
     "metadata": {},
     "output_type": "execute_result"
    }
   ],
   "source": [
    "calendar.monthrange(2013,2)"
   ]
  },
  {
   "cell_type": "code",
   "execution_count": 33,
   "metadata": {},
   "outputs": [],
   "source": []
  },
  {
   "cell_type": "code",
   "execution_count": 34,
   "metadata": {},
   "outputs": [
    {
     "data": {
      "text/plain": [
       "['2013',\n",
       " '2014',\n",
       " '2015',\n",
       " '2016',\n",
       " '2017',\n",
       " '2018',\n",
       " '2019',\n",
       " '2020',\n",
       " '2021',\n",
       " '2022']"
      ]
     },
     "execution_count": 34,
     "metadata": {},
     "output_type": "execute_result"
    }
   ],
   "source": [
    "generate_period(2013, 2022)"
   ]
  },
  {
   "cell_type": "code",
   "execution_count": null,
   "metadata": {},
   "outputs": [],
   "source": []
  },
  {
   "cell_type": "code",
   "execution_count": null,
   "metadata": {},
   "outputs": [],
   "source": []
  },
  {
   "cell_type": "code",
   "execution_count": 28,
   "metadata": {},
   "outputs": [
    {
     "data": {
      "text/plain": [
       "[1, 2, 3, 4, 5, 6, 7, 8, 9, 10, 11]"
      ]
     },
     "execution_count": 28,
     "metadata": {},
     "output_type": "execute_result"
    }
   ],
   "source": []
  },
  {
   "cell_type": "code",
   "execution_count": 25,
   "metadata": {},
   "outputs": [],
   "source": [
    "import pandas as pd\n",
    "import datetime\n",
    "import os"
   ]
  },
  {
   "cell_type": "code",
   "execution_count": 11,
   "metadata": {},
   "outputs": [],
   "source": [
    "# path = os.getcwd()\n",
    "path = os.path.abspath('..')\n",
    "\n",
    "data = pd.read_csv(path+'\\\\Result\\\\data_raw\\\\Le Monde_2013_1_4.csv',\n",
    "                   index_col=0)"
   ]
  },
  {
   "cell_type": "code",
   "execution_count": 29,
   "metadata": {},
   "outputs": [
    {
     "data": {
      "text/html": [
       "<div>\n",
       "<style scoped>\n",
       "    .dataframe tbody tr th:only-of-type {\n",
       "        vertical-align: middle;\n",
       "    }\n",
       "\n",
       "    .dataframe tbody tr th {\n",
       "        vertical-align: top;\n",
       "    }\n",
       "\n",
       "    .dataframe thead th {\n",
       "        text-align: right;\n",
       "    }\n",
       "</style>\n",
       "<table border=\"1\" class=\"dataframe\">\n",
       "  <thead>\n",
       "    <tr style=\"text-align: right;\">\n",
       "      <th></th>\n",
       "      <th>date</th>\n",
       "      <th>publication</th>\n",
       "      <th>words</th>\n",
       "      <th>author</th>\n",
       "      <th>title</th>\n",
       "      <th>intro</th>\n",
       "    </tr>\n",
       "  </thead>\n",
       "  <tbody>\n",
       "    <tr>\n",
       "      <th>0</th>\n",
       "      <td>2013-01-02</td>\n",
       "      <td>Le Monde</td>\n",
       "      <td>786mots</td>\n",
       "      <td>Clément Lacombe et Audrey Tonnelier</td>\n",
       "      <td>2013 sous le signe de l'optimisme en Bourse</td>\n",
       "      <td>...  à appeler l'Europe à l'aide, prévient...</td>\n",
       "    </tr>\n",
       "    <tr>\n",
       "      <th>1</th>\n",
       "      <td>2013-01-02</td>\n",
       "      <td>Le Monde</td>\n",
       "      <td>977mots</td>\n",
       "      <td>Isabelle Regnier</td>\n",
       "      <td>Avis de tempête sur le cinéma français</td>\n",
       "      <td>...  préachetés par France Télévisions, ce...</td>\n",
       "    </tr>\n",
       "    <tr>\n",
       "      <th>2</th>\n",
       "      <td>2013-01-03</td>\n",
       "      <td>Le Monde</td>\n",
       "      <td>278mots</td>\n",
       "      <td>Jean-Pierre Tenoux</td>\n",
       "      <td>Besançon, champion français des économies d'én...</td>\n",
       "      <td>...  nom de Cit'ergie, pour distinguer les...</td>\n",
       "    </tr>\n",
       "    <tr>\n",
       "      <th>3</th>\n",
       "      <td>2013-01-03</td>\n",
       "      <td>Le Monde</td>\n",
       "      <td>629mots</td>\n",
       "      <td>Michel Noblecourt</td>\n",
       "      <td>2013, année charnière pour le syndicalisme fra...</td>\n",
       "      <td>Sur fond de  climat social déprimé, où l'i...</td>\n",
       "    </tr>\n",
       "    <tr>\n",
       "      <th>4</th>\n",
       "      <td>2013-01-04</td>\n",
       "      <td>Le Monde</td>\n",
       "      <td>315mots</td>\n",
       "      <td>C. Du.</td>\n",
       "      <td>Il n'y aura bientôt plus de fonctionnaires au ...</td>\n",
       "      <td>...  PDG, a été nommé à la tête du groupe ...</td>\n",
       "    </tr>\n",
       "    <tr>\n",
       "      <th>5</th>\n",
       "      <td>2013-01-04</td>\n",
       "      <td>Le Monde</td>\n",
       "      <td>1514mots</td>\n",
       "      <td>Jean-Marc Ayrault</td>\n",
       "      <td>Pour un nouveau modèle français</td>\n",
       "      <td>...  Notre nouveau modèle de développement...</td>\n",
       "    </tr>\n",
       "    <tr>\n",
       "      <th>6</th>\n",
       "      <td>2013-01-04</td>\n",
       "      <td>Le Monde</td>\n",
       "      <td>667mots</td>\n",
       "      <td>Cécile Ducourtieux</td>\n",
       "      <td>Orange s'apprête à tourner la page France Télécom</td>\n",
       "      <td>...  la manoeuvre, il y a quelques années....</td>\n",
       "    </tr>\n",
       "    <tr>\n",
       "      <th>7</th>\n",
       "      <td>2013-01-04</td>\n",
       "      <td>Le Monde</td>\n",
       "      <td>68mots</td>\n",
       "      <td>NaN</td>\n",
       "      <td>Alerte rouge à La Réunion pour le cyclone Dumile</td>\n",
       "      <td>L'alerte cyclonique rouge est entrée e...</td>\n",
       "    </tr>\n",
       "    <tr>\n",
       "      <th>8</th>\n",
       "      <td>2013-01-05</td>\n",
       "      <td>Le Monde</td>\n",
       "      <td>735mots</td>\n",
       "      <td>Jean-Hervé Lorenzi</td>\n",
       "      <td>En 2013, augmentons l'emploi des jeunes</td>\n",
       "      <td>Il y a les faits, le  climat général, les ...</td>\n",
       "    </tr>\n",
       "    <tr>\n",
       "      <th>9</th>\n",
       "      <td>2013-01-05</td>\n",
       "      <td>Le Monde</td>\n",
       "      <td>546mots</td>\n",
       "      <td>Olivier Truc</td>\n",
       "      <td>La Norvège tentée par le nucléaire pour exploi...</td>\n",
       "      <td>...  renforcer la durabilité de l'énergie ...</td>\n",
       "    </tr>\n",
       "  </tbody>\n",
       "</table>\n",
       "</div>"
      ],
      "text/plain": [
       "         date publication     words                               author  \\\n",
       "0  2013-01-02    Le Monde   786mots  Clément Lacombe et Audrey Tonnelier   \n",
       "1  2013-01-02    Le Monde   977mots                     Isabelle Regnier   \n",
       "2  2013-01-03    Le Monde   278mots                   Jean-Pierre Tenoux   \n",
       "3  2013-01-03    Le Monde   629mots                    Michel Noblecourt   \n",
       "4  2013-01-04    Le Monde   315mots                               C. Du.   \n",
       "5  2013-01-04    Le Monde  1514mots                    Jean-Marc Ayrault   \n",
       "6  2013-01-04    Le Monde   667mots                   Cécile Ducourtieux   \n",
       "7  2013-01-04    Le Monde    68mots                                  NaN   \n",
       "8  2013-01-05    Le Monde   735mots                   Jean-Hervé Lorenzi   \n",
       "9  2013-01-05    Le Monde   546mots                         Olivier Truc   \n",
       "\n",
       "                                               title  \\\n",
       "0        2013 sous le signe de l'optimisme en Bourse   \n",
       "1             Avis de tempête sur le cinéma français   \n",
       "2  Besançon, champion français des économies d'én...   \n",
       "3  2013, année charnière pour le syndicalisme fra...   \n",
       "4  Il n'y aura bientôt plus de fonctionnaires au ...   \n",
       "5                    Pour un nouveau modèle français   \n",
       "6  Orange s'apprête à tourner la page France Télécom   \n",
       "7   Alerte rouge à La Réunion pour le cyclone Dumile   \n",
       "8            En 2013, augmentons l'emploi des jeunes   \n",
       "9  La Norvège tentée par le nucléaire pour exploi...   \n",
       "\n",
       "                                               intro  \n",
       "0      ...  à appeler l'Europe à l'aide, prévient...  \n",
       "1      ...  préachetés par France Télévisions, ce...  \n",
       "2      ...  nom de Cit'ergie, pour distinguer les...  \n",
       "3      Sur fond de  climat social déprimé, où l'i...  \n",
       "4      ...  PDG, a été nommé à la tête du groupe ...  \n",
       "5      ...  Notre nouveau modèle de développement...  \n",
       "6      ...  la manoeuvre, il y a quelques années....  \n",
       "7          L'alerte cyclonique rouge est entrée e...  \n",
       "8      Il y a les faits, le  climat général, les ...  \n",
       "9      ...  renforcer la durabilité de l'énergie ...  "
      ]
     },
     "execution_count": 29,
     "metadata": {},
     "output_type": "execute_result"
    }
   ],
   "source": [
    "# sort by date\n",
    "data = data.sort_values(by='date')\n",
    "data = data.reset_index(drop='True')\n",
    "data.head(10)"
   ]
  },
  {
   "cell_type": "code",
   "execution_count": 27,
   "metadata": {},
   "outputs": [
    {
     "data": {
      "text/plain": [
       "'2013-01-02'"
      ]
     },
     "execution_count": 27,
     "metadata": {},
     "output_type": "execute_result"
    }
   ],
   "source": [
    "list(data['date'])[0]"
   ]
  },
  {
   "cell_type": "code",
   "execution_count": 28,
   "metadata": {},
   "outputs": [
    {
     "ename": "TypeError",
     "evalue": "an integer is required (got type str)",
     "output_type": "error",
     "traceback": [
      "\u001b[1;31m---------------------------------------------------------------------------\u001b[0m",
      "\u001b[1;31mTypeError\u001b[0m                                 Traceback (most recent call last)",
      "\u001b[1;32m<ipython-input-28-0f7d35bbfbbe>\u001b[0m in \u001b[0;36m<module>\u001b[1;34m\u001b[0m\n\u001b[1;32m----> 1\u001b[1;33m \u001b[0mdatetime\u001b[0m\u001b[1;33m.\u001b[0m\u001b[0mdatetime\u001b[0m\u001b[1;33m(\u001b[0m\u001b[1;34m'2013-01-02'\u001b[0m\u001b[1;33m)\u001b[0m\u001b[1;33m\u001b[0m\u001b[1;33m\u001b[0m\u001b[0m\n\u001b[0m",
      "\u001b[1;31mTypeError\u001b[0m: an integer is required (got type str)"
     ]
    }
   ],
   "source": [
    "datetime.datetime('2013-01-02')+ datetime.timedelta(7)"
   ]
  },
  {
   "cell_type": "code",
   "execution_count": null,
   "metadata": {},
   "outputs": [],
   "source": []
  }
 ],
 "metadata": {
  "kernelspec": {
   "display_name": "Python 3",
   "language": "python",
   "name": "python3"
  },
  "language_info": {
   "codemirror_mode": {
    "name": "ipython",
    "version": 3
   },
   "file_extension": ".py",
   "mimetype": "text/x-python",
   "name": "python",
   "nbconvert_exporter": "python",
   "pygments_lexer": "ipython3",
   "version": "3.8.2"
  }
 },
 "nbformat": 4,
 "nbformat_minor": 4
}
