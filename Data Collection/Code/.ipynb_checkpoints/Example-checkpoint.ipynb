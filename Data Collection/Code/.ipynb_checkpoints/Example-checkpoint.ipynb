{
 "cells": [
  {
   "cell_type": "code",
   "execution_count": 1,
   "metadata": {},
   "outputs": [
    {
     "name": "stderr",
     "output_type": "stream",
     "text": [
      "d:\\10_python\\python-3.8.2\\python\\lib\\site-packages\\requests\\__init__.py:89: RequestsDependencyWarning: urllib3 (1.26.13) or chardet (3.0.4) doesn't match a supported version!\n",
      "  warnings.warn(\"urllib3 ({}) or chardet ({}) doesn't match a supported \"\n"
     ]
    }
   ],
   "source": [
    "import requests\n",
    "from bs4 import BeautifulSoup\n",
    "from selenium import webdriver\n",
    "from selenium.webdriver.support.select import Select\n",
    "import pandas as pd\n",
    "import re\n",
    "import time\n",
    "import numpy as np"
   ]
  },
  {
   "cell_type": "code",
   "execution_count": null,
   "metadata": {},
   "outputs": [],
   "source": []
  },
  {
   "cell_type": "code",
   "execution_count": 269,
   "metadata": {},
   "outputs": [],
   "source": [
    "url = \"https://acces-distant.sciencespo.fr/fork?https://nouveau.europresse.com/access/ip/default.aspx?un=politique2T_1\"\n",
    "driver = webdriver.Chrome()\n",
    "driver.get(url)\n",
    "driver.find_element_by_id(\"username\").send_keys('xianlin.ding@sciencespo.fr')\n",
    "driver.find_element_by_id(\"password\").send_keys('099115Keep12?')\n",
    "driver.find_element_by_class_name(\"btn-submit\").click()\n",
    "\n",
    "Select(driver.find_element_by_id(\"DateFilter_DateRange\")).select_by_value(\"4\")\n",
    "Select(driver.find_element_by_id(\"CriteriaSet\")).select_by_value(\"111377\")\n",
    "\n",
    "driver.find_element_by_id(\"Keywords\").send_keys('climat')\n",
    "driver.find_element_by_id(\"btnSearch\").click()"
   ]
  },
  {
   "cell_type": "code",
   "execution_count": 270,
   "metadata": {},
   "outputs": [],
   "source": [
    "def scrolling():\n",
    "    temp_height=0\n",
    " \n",
    "    while True:\n",
    "        \n",
    "        driver.execute_script(\"window.scrollBy(0,1000)\")\n",
    "    \n",
    "        check_height = driver.execute_script(\"return document.documentElement.scrollTop || window.pageYOffset || document.body.scrollTop;\")\n",
    "    \n",
    "        if check_height==temp_height:\n",
    "            break\n",
    "        temp_height=check_height"
   ]
  },
  {
   "cell_type": "code",
   "execution_count": 271,
   "metadata": {},
   "outputs": [
    {
     "name": "stdout",
     "output_type": "stream",
     "text": [
      "scrolling  1  times\n",
      "scrolling  2  times\n",
      "scrolling  3  times\n",
      "scrolling  4  times\n",
      "scrolling  5  times\n",
      "scrolling  6  times\n",
      "scrolling  7  times\n",
      "scrolling  8  times\n",
      "scrolling  9  times\n",
      "scrolling  10  times\n",
      "scrolling  11  times\n",
      "scrolling  12  times\n",
      "scrolling  13  times\n",
      "scrolling  14  times\n",
      "scrolling  15  times\n",
      "scrolling  16  times\n",
      "scrolling  17  times\n",
      "scrolling  18  times\n",
      "scrolling  19  times\n",
      "scrolling  20  times\n",
      "scrolling  21  times\n",
      "scrolling  22  times\n",
      "scrolling  23  times\n",
      "scrolling  24  times\n",
      "scrolling  25  times\n",
      "scrolling  26  times\n",
      "scrolling  27  times\n",
      "scrolling  28  times\n",
      "scrolling  29  times\n",
      "scrolling  30  times\n",
      "scrolling  31  times\n",
      "scrolling  32  times\n",
      "scrolling  33  times\n",
      "scrolling  34  times\n",
      "scrolling  35  times\n",
      "scrolling  36  times\n",
      "scrolling  37  times\n",
      "scrolling  38  times\n",
      "scrolling  39  times\n",
      "scrolling  40  times\n",
      "scrolling  41  times\n",
      "scrolling  42  times\n",
      "scrolling  43  times\n",
      "scrolling  44  times\n",
      "scrolling  45  times\n",
      "scrolling  46  times\n",
      "scrolling  47  times\n",
      "scrolling  48  times\n",
      "scrolling  49  times\n",
      "scrolling  50  times\n",
      "scrolling  51  times\n",
      "scrolling  52  times\n",
      "scrolling  53  times\n",
      "scrolling  54  times\n",
      "scrolling  55  times\n",
      "scrolling  56  times\n",
      "scrolling  57  times\n",
      "scrolling  58  times\n",
      "scrolling  59  times\n",
      "scrolling  60  times\n",
      "scrolling  61  times\n",
      "scrolling  62  times\n",
      "scrolling  63  times\n",
      "scrolling  64  times\n",
      "scrolling  65  times\n",
      "scrolling  66  times\n",
      "scrolling  67  times\n",
      "scrolling  68  times\n",
      "scrolling  69  times\n",
      "scrolling  70  times\n",
      "scrolling  71  times\n",
      "scrolling  72  times\n",
      "scrolling  73  times\n",
      "scrolling  74  times\n",
      "scrolling  75  times\n",
      "scrolling  76  times\n",
      "scrolling  77  times\n",
      "scrolling  78  times\n",
      "scrolling  79  times\n",
      "scrolling  80  times\n",
      "scrolling  81  times\n",
      "scrolling  82  times\n",
      "scrolling  83  times\n",
      "scrolling  84  times\n",
      "scrolling  85  times\n",
      "scrolling  86  times\n",
      "scrolling  87  times\n",
      "scrolling  88  times\n",
      "scrolling  89  times\n",
      "scrolling  90  times\n",
      "scrolling  91  times\n",
      "scrolling  92  times\n",
      "scrolling  93  times\n",
      "scrolling  94  times\n",
      "scrolling  95  times\n",
      "scrolling  96  times\n",
      "scrolling  97  times\n",
      "scrolling  98  times\n",
      "scrolling  99  times\n",
      "scrolling  100  times\n"
     ]
    }
   ],
   "source": [
    "for i in range(100):\n",
    "    scrolling()\n",
    "    time.sleep(3)\n",
    "    print('scrolling ', i+1, ' times' )"
   ]
  },
  {
   "cell_type": "code",
   "execution_count": 272,
   "metadata": {},
   "outputs": [],
   "source": [
    "web_content = driver.page_source\n",
    "obj = BeautifulSoup(web_content,'lxml').body\n",
    "obj = obj.aside.ul"
   ]
  },
  {
   "cell_type": "code",
   "execution_count": 273,
   "metadata": {},
   "outputs": [],
   "source": [
    "obj = obj.find_all(name='div', attrs={\"class\":\"docListItem msDocItem\"})"
   ]
  },
  {
   "cell_type": "code",
   "execution_count": 298,
   "metadata": {},
   "outputs": [],
   "source": [
    "def get_information():\n",
    "    \n",
    "    info = pd.DataFrame(columns = ['title', 'date', 'publication', 'words', 'author-intro'])\n",
    "    i = 0\n",
    "    \n",
    "    for obj_i in obj:\n",
    "        \n",
    "        obj_i = obj_i.div.next_sibling.next_sibling\n",
    "        \n",
    "        obj_i_1 = obj_i.div\n",
    "        obj_i_1 = obj_i_1.find_all(name='span', attrs={\"class\":\"source-name\"})[0]\n",
    "        obj_i_1 = str(obj_i_1)\n",
    "        publication_i = re.findall(r\"<span class=\\\"source-name\\\">(.+?)</span>\", obj_i_1)[0]\n",
    "        \n",
    "        obj_i_2 = obj_i.div.next_sibling.next_sibling\n",
    "        \n",
    "        title_i = obj_i_2.div.a\n",
    "        title_i = str(title_i)\n",
    "        title_i = re.findall(r\">(.+?)</a>\", title_i)[0]\n",
    "        \n",
    "        obj_i_3 = obj_i_2.div.next_sibling.next_sibling \n",
    "        \n",
    "        date_words_i = obj_i_3.div\n",
    "        date_words_i = str(date_words_i)\n",
    "        date_i = re.findall(r\"<span class=\\\"details\\\">(.+?)<span class=\", date_words_i)[0]\n",
    "        date_i = date_i.replace(' ', '')\n",
    "        \n",
    "        words_i = re.findall(r\"</span>(.+?)</span>\", date_words_i)[0]\n",
    "        words_i = words_i.replace(' ', '')\n",
    "        \n",
    "        author_intro_i = obj_i_3.div.next_sibling.next_sibling\n",
    "        author_intro_i = str(author_intro_i)\n",
    "        \n",
    "        info.loc[i] = [title_i, date_i, publication_i, words_i, author_intro_i]\n",
    "        i = i+1\n",
    "        \n",
    "    return info"
   ]
  },
  {
   "cell_type": "code",
   "execution_count": 299,
   "metadata": {},
   "outputs": [],
   "source": [
    "info = get_information()"
   ]
  },
  {
   "cell_type": "code",
   "execution_count": 300,
   "metadata": {},
   "outputs": [
    {
     "data": {
      "text/html": [
       "<div>\n",
       "<style scoped>\n",
       "    .dataframe tbody tr th:only-of-type {\n",
       "        vertical-align: middle;\n",
       "    }\n",
       "\n",
       "    .dataframe tbody tr th {\n",
       "        vertical-align: top;\n",
       "    }\n",
       "\n",
       "    .dataframe thead th {\n",
       "        text-align: right;\n",
       "    }\n",
       "</style>\n",
       "<table border=\"1\" class=\"dataframe\">\n",
       "  <thead>\n",
       "    <tr style=\"text-align: right;\">\n",
       "      <th></th>\n",
       "      <th>title</th>\n",
       "      <th>date</th>\n",
       "      <th>publication</th>\n",
       "      <th>words</th>\n",
       "      <th>author-intro</th>\n",
       "    </tr>\n",
       "  </thead>\n",
       "  <tbody>\n",
       "    <tr>\n",
       "      <th>0</th>\n",
       "      <td>Les objectifs climat sont désormais intégrés d...</td>\n",
       "      <td>2022-11-10</td>\n",
       "      <td>L'AGEFI Quotidien - Édition de 7h</td>\n",
       "      <td>586mots</td>\n",
       "      <td>&lt;div class=\"kwicResult clearfix\"&gt; &lt;div class=\"...</td>\n",
       "    </tr>\n",
       "    <tr>\n",
       "      <th>1</th>\n",
       "      <td>COP27 : des progrès ténus</td>\n",
       "      <td>2022-11-17</td>\n",
       "      <td>Le Monde</td>\n",
       "      <td>1395mots</td>\n",
       "      <td>&lt;div class=\"kwicResult clearfix\"&gt; &lt;span class=...</td>\n",
       "    </tr>\n",
       "    <tr>\n",
       "      <th>2</th>\n",
       "      <td>Les moments forts en marge des négociations</td>\n",
       "      <td>2022-11-21</td>\n",
       "      <td>Les Echos</td>\n",
       "      <td>1043mots</td>\n",
       "      <td>&lt;div class=\"kwicResult clearfix\"&gt; &lt;span class=...</td>\n",
       "    </tr>\n",
       "    <tr>\n",
       "      <th>3</th>\n",
       "      <td>A la COP 27, l'Elysée assure avoir fait ses de...</td>\n",
       "      <td>2022-11-08</td>\n",
       "      <td>Libération</td>\n",
       "      <td>857mots</td>\n",
       "      <td>&lt;div class=\"kwicResult clearfix\"&gt; &lt;span class=...</td>\n",
       "    </tr>\n",
       "    <tr>\n",
       "      <th>4</th>\n",
       "      <td>Pub : une mue contre-nature</td>\n",
       "      <td>2022-11-15</td>\n",
       "      <td>Le Monde</td>\n",
       "      <td>2304mots</td>\n",
       "      <td>&lt;div class=\"kwicResult clearfix\"&gt; &lt;span class=...</td>\n",
       "    </tr>\n",
       "  </tbody>\n",
       "</table>\n",
       "</div>"
      ],
      "text/plain": [
       "                                               title        date  \\\n",
       "0  Les objectifs climat sont désormais intégrés d...  2022-11-10   \n",
       "1                          COP27 : des progrès ténus  2022-11-17   \n",
       "2        Les moments forts en marge des négociations  2022-11-21   \n",
       "3  A la COP 27, l'Elysée assure avoir fait ses de...  2022-11-08   \n",
       "4                        Pub : une mue contre-nature  2022-11-15   \n",
       "\n",
       "                         publication     words  \\\n",
       "0  L'AGEFI Quotidien - Édition de 7h   586mots   \n",
       "1                           Le Monde  1395mots   \n",
       "2                          Les Echos  1043mots   \n",
       "3                         Libération   857mots   \n",
       "4                           Le Monde  2304mots   \n",
       "\n",
       "                                        author-intro  \n",
       "0  <div class=\"kwicResult clearfix\"> <div class=\"...  \n",
       "1  <div class=\"kwicResult clearfix\"> <span class=...  \n",
       "2  <div class=\"kwicResult clearfix\"> <span class=...  \n",
       "3  <div class=\"kwicResult clearfix\"> <span class=...  \n",
       "4  <div class=\"kwicResult clearfix\"> <span class=...  "
      ]
     },
     "execution_count": 300,
     "metadata": {},
     "output_type": "execute_result"
    }
   ],
   "source": [
    "info.head()"
   ]
  },
  {
   "cell_type": "code",
   "execution_count": 301,
   "metadata": {},
   "outputs": [
    {
     "data": {
      "text/html": [
       "<div>\n",
       "<style scoped>\n",
       "    .dataframe tbody tr th:only-of-type {\n",
       "        vertical-align: middle;\n",
       "    }\n",
       "\n",
       "    .dataframe tbody tr th {\n",
       "        vertical-align: top;\n",
       "    }\n",
       "\n",
       "    .dataframe thead th {\n",
       "        text-align: right;\n",
       "    }\n",
       "</style>\n",
       "<table border=\"1\" class=\"dataframe\">\n",
       "  <thead>\n",
       "    <tr style=\"text-align: right;\">\n",
       "      <th></th>\n",
       "      <th>title</th>\n",
       "      <th>date</th>\n",
       "      <th>publication</th>\n",
       "      <th>words</th>\n",
       "      <th>author-intro</th>\n",
       "    </tr>\n",
       "  </thead>\n",
       "  <tbody>\n",
       "    <tr>\n",
       "      <th>995</th>\n",
       "      <td>Sur les pavés...</td>\n",
       "      <td>2022-11-13</td>\n",
       "      <td>La Nouvelle République Dimanche - LOIR ET CHER</td>\n",
       "      <td>132mots</td>\n",
       "      <td>&lt;div class=\"kwicResult clearfix\"&gt; &lt;span class=...</td>\n",
       "    </tr>\n",
       "    <tr>\n",
       "      <th>996</th>\n",
       "      <td>Il y a 4 ans, le blocage des routes</td>\n",
       "      <td>2022-11-14</td>\n",
       "      <td>L'Indépendant - CARCA_IN</td>\n",
       "      <td>333mots</td>\n",
       "      <td>&lt;div class=\"kwicResult clearfix\"&gt; &lt;span class=...</td>\n",
       "    </tr>\n",
       "    <tr>\n",
       "      <th>997</th>\n",
       "      <td>--- Faire vivre la COP au niveau local</td>\n",
       "      <td>2022-11-14</td>\n",
       "      <td>La Nouvelle République du Centre-Ouest</td>\n",
       "      <td>383mots</td>\n",
       "      <td>&lt;div class=\"kwicResult clearfix\"&gt; &lt;span class=...</td>\n",
       "    </tr>\n",
       "    <tr>\n",
       "      <th>998</th>\n",
       "      <td>Fresque du climat</td>\n",
       "      <td>2022-11-28</td>\n",
       "      <td>Presse Océan - Saint-Nazaire Presqu'île</td>\n",
       "      <td>78mots</td>\n",
       "      <td>&lt;div class=\"kwicResult clearfix\"&gt; &lt;span class=...</td>\n",
       "    </tr>\n",
       "    <tr>\n",
       "      <th>999</th>\n",
       "      <td>Déchets : l’association OzActes fourmille d’in...</td>\n",
       "      <td>2022-12-01</td>\n",
       "      <td>Ouest-France - Quimperlé, Concarneau</td>\n",
       "      <td>568mots</td>\n",
       "      <td>&lt;div class=\"kwicResult clearfix\"&gt; &lt;span class=...</td>\n",
       "    </tr>\n",
       "  </tbody>\n",
       "</table>\n",
       "</div>"
      ],
      "text/plain": [
       "                                                 title        date  \\\n",
       "995                                   Sur les pavés...  2022-11-13   \n",
       "996                Il y a 4 ans, le blocage des routes  2022-11-14   \n",
       "997             --- Faire vivre la COP au niveau local  2022-11-14   \n",
       "998                                  Fresque du climat  2022-11-28   \n",
       "999  Déchets : l’association OzActes fourmille d’in...  2022-12-01   \n",
       "\n",
       "                                        publication    words  \\\n",
       "995  La Nouvelle République Dimanche - LOIR ET CHER  132mots   \n",
       "996                        L'Indépendant - CARCA_IN  333mots   \n",
       "997          La Nouvelle République du Centre-Ouest  383mots   \n",
       "998        Presse Océan - Saint-Nazaire Presqu'île    78mots   \n",
       "999            Ouest-France - Quimperlé, Concarneau  568mots   \n",
       "\n",
       "                                          author-intro  \n",
       "995  <div class=\"kwicResult clearfix\"> <span class=...  \n",
       "996  <div class=\"kwicResult clearfix\"> <span class=...  \n",
       "997  <div class=\"kwicResult clearfix\"> <span class=...  \n",
       "998  <div class=\"kwicResult clearfix\"> <span class=...  \n",
       "999  <div class=\"kwicResult clearfix\"> <span class=...  "
      ]
     },
     "execution_count": 301,
     "metadata": {},
     "output_type": "execute_result"
    }
   ],
   "source": [
    "info.tail()"
   ]
  },
  {
   "cell_type": "code",
   "execution_count": 302,
   "metadata": {},
   "outputs": [
    {
     "data": {
      "text/plain": [
       "76"
      ]
     },
     "execution_count": 302,
     "metadata": {},
     "output_type": "execute_result"
    }
   ],
   "source": [
    "np.sum(info['publication'] == 'Le Monde')"
   ]
  },
  {
   "cell_type": "code",
   "execution_count": 303,
   "metadata": {},
   "outputs": [
    {
     "data": {
      "text/plain": [
       "43"
      ]
     },
     "execution_count": 303,
     "metadata": {},
     "output_type": "execute_result"
    }
   ],
   "source": [
    "np.sum(info['publication'] == 'Le Figaro')"
   ]
  },
  {
   "cell_type": "code",
   "execution_count": 304,
   "metadata": {},
   "outputs": [
    {
     "data": {
      "text/plain": [
       "['title', 'date', 'publication', 'words', 'author-intro']"
      ]
     },
     "execution_count": 304,
     "metadata": {},
     "output_type": "execute_result"
    }
   ],
   "source": [
    "list(info.columns)"
   ]
  },
  {
   "cell_type": "code",
   "execution_count": 311,
   "metadata": {},
   "outputs": [
    {
     "data": {
      "text/html": [
       "<div>\n",
       "<style scoped>\n",
       "    .dataframe tbody tr th:only-of-type {\n",
       "        vertical-align: middle;\n",
       "    }\n",
       "\n",
       "    .dataframe tbody tr th {\n",
       "        vertical-align: top;\n",
       "    }\n",
       "\n",
       "    .dataframe thead th {\n",
       "        text-align: right;\n",
       "    }\n",
       "</style>\n",
       "<table border=\"1\" class=\"dataframe\">\n",
       "  <thead>\n",
       "    <tr style=\"text-align: right;\">\n",
       "      <th></th>\n",
       "      <th>title</th>\n",
       "      <th>publication</th>\n",
       "      <th>words</th>\n",
       "      <th>author-intro</th>\n",
       "    </tr>\n",
       "    <tr>\n",
       "      <th>date</th>\n",
       "      <th></th>\n",
       "      <th></th>\n",
       "      <th></th>\n",
       "      <th></th>\n",
       "    </tr>\n",
       "  </thead>\n",
       "  <tbody>\n",
       "    <tr>\n",
       "      <th>2022-11-07</th>\n",
       "      <td>80</td>\n",
       "      <td>80</td>\n",
       "      <td>80</td>\n",
       "      <td>80</td>\n",
       "    </tr>\n",
       "    <tr>\n",
       "      <th>2022-11-08</th>\n",
       "      <td>60</td>\n",
       "      <td>60</td>\n",
       "      <td>60</td>\n",
       "      <td>60</td>\n",
       "    </tr>\n",
       "    <tr>\n",
       "      <th>2022-11-09</th>\n",
       "      <td>62</td>\n",
       "      <td>62</td>\n",
       "      <td>62</td>\n",
       "      <td>62</td>\n",
       "    </tr>\n",
       "    <tr>\n",
       "      <th>2022-11-10</th>\n",
       "      <td>55</td>\n",
       "      <td>55</td>\n",
       "      <td>55</td>\n",
       "      <td>55</td>\n",
       "    </tr>\n",
       "    <tr>\n",
       "      <th>2022-11-11</th>\n",
       "      <td>36</td>\n",
       "      <td>36</td>\n",
       "      <td>36</td>\n",
       "      <td>36</td>\n",
       "    </tr>\n",
       "  </tbody>\n",
       "</table>\n",
       "</div>"
      ],
      "text/plain": [
       "            title  publication  words  author-intro\n",
       "date                                               \n",
       "2022-11-07     80           80     80            80\n",
       "2022-11-08     60           60     60            60\n",
       "2022-11-09     62           62     62            62\n",
       "2022-11-10     55           55     55            55\n",
       "2022-11-11     36           36     36            36"
      ]
     },
     "execution_count": 311,
     "metadata": {},
     "output_type": "execute_result"
    }
   ],
   "source": [
    "count = info.groupby(['date']).count()\n",
    "count.head()"
   ]
  },
  {
   "cell_type": "code",
   "execution_count": 320,
   "metadata": {},
   "outputs": [
    {
     "data": {
      "image/png": "[encoded data removed]",
      "text/plain": [
       "<Figure size 720x288 with 1 Axes>"
      ]
     },
     "metadata": {
      "needs_background": "light"
     },
     "output_type": "display_data"
    }
   ],
   "source": [
    "import matplotlib.pyplot as plt\n",
    "plt.figure(figsize=(10, 4))\n",
    "plt.plot(count['title'], lw=4, ls='-', c='b', alpha=0.5)\n",
    "plt.xticks(rotation=90)\n",
    "plt.show()"
   ]
  },
  {
   "cell_type": "code",
   "execution_count": 329,
   "metadata": {},
   "outputs": [
    {
     "data": {
      "image/png": "[encoded data removed]",
      "text/plain": [
       "<Figure size 720x288 with 1 Axes>"
      ]
     },
     "metadata": {
      "needs_background": "light"
     },
     "output_type": "display_data"
    }
   ],
   "source": [
    "count_1 = info[info['publication'] == 'Le Monde'].groupby(['date']).count()\n",
    "plt.figure(figsize=(10, 4))\n",
    "plt.plot(count_2['title'], lw=4, ls='-', c='b', alpha=0.5)\n",
    "plt.xticks(rotation=90)\n",
    "plt.show()"
   ]
  },
  {
   "cell_type": "code",
   "execution_count": 363,
   "metadata": {},
   "outputs": [
    {
     "name": "stdout",
     "output_type": "stream",
     "text": [
      "scrolling  1  times\n",
      "scrolling  2  times\n",
      "scrolling  3  times\n",
      "scrolling  4  times\n",
      "scrolling  5  times\n"
     ]
    }
   ],
   "source": [
    "# exemple\n",
    "\n",
    "url = \"https://acces-distant.sciencespo.fr/fork?https://nouveau.europresse.com/access/ip/default.aspx?un=politique2T_1\"\n",
    "driver = webdriver.Chrome()\n",
    "driver.get(url)\n",
    "time.sleep(3)\n",
    "driver.find_element_by_id(\"username\").send_keys('xianlin.ding@sciencespo.fr')\n",
    "time.sleep(3)\n",
    "driver.find_element_by_id(\"password\").send_keys('099115Keep12?')\n",
    "time.sleep(3)\n",
    "driver.find_element_by_class_name(\"btn-submit\").click()\n",
    "\n",
    "Select(driver.find_element_by_id(\"DateFilter_DateRange\")).select_by_value(\"4\")\n",
    "time.sleep(3)\n",
    "Select(driver.find_element_by_id(\"CriteriaSet\")).select_by_value(\"111377\")\n",
    "time.sleep(3)\n",
    "\n",
    "driver.find_element_by_id(\"Keywords\").send_keys('climat')\n",
    "time.sleep(3)\n",
    "driver.find_element_by_id(\"btnSearch\").click()\n",
    "\n",
    "for i in range(5):\n",
    "    scrolling()\n",
    "    time.sleep(3)\n",
    "    print('scrolling ', i+1, ' times' )"
   ]
  },
  {
   "cell_type": "code",
   "execution_count": 358,
   "metadata": {},
   "outputs": [],
   "source": [
    "url = \"https://acces-distant.sciencespo.fr/fork?https://nouveau.europresse.com/access/ip/default.aspx?un=politique2T_1\"\n",
    "driver = webdriver.Chrome()\n",
    "driver.get(url)\n",
    "driver.find_element_by_id(\"username\").send_keys('xianlin.ding@sciencespo.fr')\n",
    "driver.find_element_by_id(\"password\").send_keys('099115Keep12?')\n",
    "driver.find_element_by_class_name(\"btn-submit\").click()\n",
    "\n",
    "driver.find_element_by_id(\"advLink\").click()"
   ]
  },
  {
   "cell_type": "code",
   "execution_count": 361,
   "metadata": {},
   "outputs": [],
   "source": [
    "Select(driver.find_element_by_id(\"CriteriaSet\")).select_by_value(\"111377\")"
   ]
  },
  {
   "cell_type": "code",
   "execution_count": null,
   "metadata": {},
   "outputs": [],
   "source": []
  }
 ],
 "metadata": {
  "kernelspec": {
   "display_name": "Python 3",
   "language": "python",
   "name": "python3"
  },
  "language_info": {
   "codemirror_mode": {
    "name": "ipython",
    "version": 3
   },
   "file_extension": ".py",
   "mimetype": "text/x-python",
   "name": "python",
   "nbconvert_exporter": "python",
   "pygments_lexer": "ipython3",
   "version": "3.8.2"
  }
 },
 "nbformat": 4,
 "nbformat_minor": 4
}
