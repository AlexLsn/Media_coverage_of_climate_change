{
 "cells": [
  {
   "cell_type": "markdown",
   "metadata": {},
   "source": [
    "# Media coverage and climate change: datasets creation"
   ]
  },
  {
   "cell_type": "code",
   "execution_count": 2,
   "metadata": {
    "scrolled": true
   },
   "outputs": [
    {
     "name": "stderr",
     "output_type": "stream",
     "text": [
      "C:\\Users\\Alexandrine\\anaconda3\\lib\\site-packages\\pandas\\core\\computation\\expressions.py:20: UserWarning: Pandas requires version '2.7.3' or newer of 'numexpr' (version '2.7.1' currently installed).\n",
      "  from pandas.core.computation.check import NUMEXPR_INSTALLED\n"
     ]
    }
   ],
   "source": [
    "import pandas as pd\n",
    "import numpy as np\n",
    "import glob\n",
    "import os"
   ]
  },
  {
   "cell_type": "markdown",
   "metadata": {},
   "source": [
    "### Le Monde"
   ]
  },
  {
   "cell_type": "code",
   "execution_count": 15,
   "metadata": {},
   "outputs": [],
   "source": [
    "# import data and concatenate into one dataframe\n",
    "\n",
    "# write your own path\n",
    "path = r'D:\\Alexandrine\\ENSAE\\PDSSS\\Projet-ENSAE-DSSS-main\\Projet-ENSAE-DSSS-main\\Data Collection\\Result\\Le Monde'\n",
    "all_files = glob.glob(os.path.join(path, \"*.csv\"))\n",
    "\n",
    "li = []\n",
    "\n",
    "for filename in all_files:\n",
    "    df = pd.read_csv(filename, index_col=None, header=0)\n",
    "    li.append(df)\n",
    "\n",
    "lemonde_df = pd.concat(li, axis=0, ignore_index=True)\n",
    "\n",
    "# convert dates to datetime type\n",
    "lemonde_df['date'] = pd.to_datetime(lemonde_df['date'])\n",
    "\n",
    "# sort by date\n",
    "lemonde_df.sort_values(by='date', inplace = True) \n",
    "\n",
    "# list of dates\n",
    "dates = list(lemonde_df.date)\n",
    "dates = np.unique(dates)\n",
    "\n",
    "# drop unuseful columns\n",
    "del lemonde_df['Unnamed: 0']"
   ]
  },
  {
   "cell_type": "code",
   "execution_count": 16,
   "metadata": {},
   "outputs": [
    {
     "data": {
      "text/html": [
       "<div>\n",
       "<style scoped>\n",
       "    .dataframe tbody tr th:only-of-type {\n",
       "        vertical-align: middle;\n",
       "    }\n",
       "\n",
       "    .dataframe tbody tr th {\n",
       "        vertical-align: top;\n",
       "    }\n",
       "\n",
       "    .dataframe thead th {\n",
       "        text-align: right;\n",
       "    }\n",
       "</style>\n",
       "<table border=\"1\" class=\"dataframe\">\n",
       "  <thead>\n",
       "    <tr style=\"text-align: right;\">\n",
       "      <th></th>\n",
       "      <th>date</th>\n",
       "      <th>publication</th>\n",
       "      <th>words</th>\n",
       "      <th>author</th>\n",
       "      <th>title</th>\n",
       "      <th>intro</th>\n",
       "    </tr>\n",
       "  </thead>\n",
       "  <tbody>\n",
       "    <tr>\n",
       "      <th>130</th>\n",
       "      <td>2013-01-02</td>\n",
       "      <td>Le Monde</td>\n",
       "      <td>786mots</td>\n",
       "      <td>Clément Lacombe et Audrey Tonnelier</td>\n",
       "      <td>2013 sous le signe de l'optimisme en Bourse</td>\n",
       "      <td>...  à appeler l'Europe à l'aide, prévient...</td>\n",
       "    </tr>\n",
       "    <tr>\n",
       "      <th>306</th>\n",
       "      <td>2013-01-02</td>\n",
       "      <td>Le Monde</td>\n",
       "      <td>977mots</td>\n",
       "      <td>Isabelle Regnier</td>\n",
       "      <td>Avis de tempête sur le cinéma français</td>\n",
       "      <td>...  préachetés par France Télévisions, ce...</td>\n",
       "    </tr>\n",
       "    <tr>\n",
       "      <th>205</th>\n",
       "      <td>2013-01-03</td>\n",
       "      <td>Le Monde</td>\n",
       "      <td>629mots</td>\n",
       "      <td>Michel Noblecourt</td>\n",
       "      <td>2013, année charnière pour le syndicalisme fra...</td>\n",
       "      <td>Sur fond de  climat social déprimé, où l'i...</td>\n",
       "    </tr>\n",
       "  </tbody>\n",
       "</table>\n",
       "</div>"
      ],
      "text/plain": [
       "          date publication    words                               author  \\\n",
       "130 2013-01-02    Le Monde  786mots  Clément Lacombe et Audrey Tonnelier   \n",
       "306 2013-01-02    Le Monde  977mots                     Isabelle Regnier   \n",
       "205 2013-01-03    Le Monde  629mots                    Michel Noblecourt   \n",
       "\n",
       "                                                 title  \\\n",
       "130        2013 sous le signe de l'optimisme en Bourse   \n",
       "306             Avis de tempête sur le cinéma français   \n",
       "205  2013, année charnière pour le syndicalisme fra...   \n",
       "\n",
       "                                                 intro  \n",
       "130      ...  à appeler l'Europe à l'aide, prévient...  \n",
       "306      ...  préachetés par France Télévisions, ce...  \n",
       "205      Sur fond de  climat social déprimé, où l'i...  "
      ]
     },
     "execution_count": 16,
     "metadata": {},
     "output_type": "execute_result"
    }
   ],
   "source": [
    "lemonde_df.head(3)"
   ]
  },
  {
   "cell_type": "code",
   "execution_count": 29,
   "metadata": {},
   "outputs": [],
   "source": [
    "lemonde_df.to_csv('lemonde_df.csv', index=False)"
   ]
  },
  {
   "cell_type": "markdown",
   "metadata": {},
   "source": [
    "### Total number of articles"
   ]
  },
  {
   "cell_type": "code",
   "execution_count": 9,
   "metadata": {},
   "outputs": [],
   "source": [
    "lemonde_all = pd.read_csv(r'D:\\Alexandrine\\ENSAE\\PDSSS\\Projet-ENSAE-DSSS-main\\Projet-ENSAE-DSSS-main\\Data Collection\\Result\\Le Monde_All.csv', index_col=None, header=0)"
   ]
  },
  {
   "cell_type": "code",
   "execution_count": 12,
   "metadata": {},
   "outputs": [],
   "source": [
    "del lemonde_all['Unnamed: 0']"
   ]
  },
  {
   "cell_type": "code",
   "execution_count": 28,
   "metadata": {},
   "outputs": [],
   "source": [
    "lemonde_all['year'] = lemonde_all['year'].astype(str)\n",
    "lemonde_all['month'] = lemonde_all['month'].astype(str)"
   ]
  },
  {
   "cell_type": "code",
   "execution_count": 37,
   "metadata": {},
   "outputs": [],
   "source": [
    "lemonde_all['date'] = lemonde_all['year'].str.cat(lemonde_all['month'], sep='-')\n",
    "lemonde_all['date'] = pd.to_datetime(lemonde_all['date']).dt.strftime('%Y-%m')\n",
    "del lemonde_all['year']\n",
    "del lemonde_all['month']"
   ]
  },
  {
   "cell_type": "code",
   "execution_count": 13,
   "metadata": {},
   "outputs": [
    {
     "data": {
      "text/html": [
       "<div>\n",
       "<style scoped>\n",
       "    .dataframe tbody tr th:only-of-type {\n",
       "        vertical-align: middle;\n",
       "    }\n",
       "\n",
       "    .dataframe tbody tr th {\n",
       "        vertical-align: top;\n",
       "    }\n",
       "\n",
       "    .dataframe thead th {\n",
       "        text-align: right;\n",
       "    }\n",
       "</style>\n",
       "<table border=\"1\" class=\"dataframe\">\n",
       "  <thead>\n",
       "    <tr style=\"text-align: right;\">\n",
       "      <th></th>\n",
       "      <th>year</th>\n",
       "      <th>month</th>\n",
       "      <th>number</th>\n",
       "    </tr>\n",
       "  </thead>\n",
       "  <tbody>\n",
       "    <tr>\n",
       "      <th>0</th>\n",
       "      <td>2013</td>\n",
       "      <td>1</td>\n",
       "      <td>3120</td>\n",
       "    </tr>\n",
       "    <tr>\n",
       "      <th>1</th>\n",
       "      <td>2013</td>\n",
       "      <td>2</td>\n",
       "      <td>3145</td>\n",
       "    </tr>\n",
       "    <tr>\n",
       "      <th>2</th>\n",
       "      <td>2013</td>\n",
       "      <td>3</td>\n",
       "      <td>3512</td>\n",
       "    </tr>\n",
       "  </tbody>\n",
       "</table>\n",
       "</div>"
      ],
      "text/plain": [
       "   year  month  number\n",
       "0  2013      1    3120\n",
       "1  2013      2    3145\n",
       "2  2013      3    3512"
      ]
     },
     "execution_count": 13,
     "metadata": {},
     "output_type": "execute_result"
    }
   ],
   "source": [
    "lemonde_all.head(3)"
   ]
  },
  {
   "cell_type": "code",
   "execution_count": 39,
   "metadata": {},
   "outputs": [],
   "source": [
    "lemonde_all.to_csv('lemonde_all.csv', index=False)"
   ]
  },
  {
   "cell_type": "markdown",
   "metadata": {},
   "source": [
    "## Le monde, v2"
   ]
  },
  {
   "cell_type": "code",
   "execution_count": 4,
   "metadata": {},
   "outputs": [],
   "source": [
    "# import data and concatenate into one dataframe\n",
    "\n",
    "# write your own path\n",
    "path = r'D:\\Alexandrine\\ENSAE\\PDSSS\\Projet-ENSAE-DSSS-main\\Projet-ENSAE-DSSS-main\\Data Collection\\Result\\data_raw_v2'\n",
    "all_files = glob.glob(os.path.join(path, \"*.csv\"))\n",
    "\n",
    "li = []\n",
    "\n",
    "for filename in all_files:\n",
    "    df = pd.read_csv(filename, index_col=None, header=0)\n",
    "    li.append(df)\n",
    "\n",
    "lemonde_v2 = pd.concat(li, axis=0, ignore_index=True)\n",
    "\n",
    "# convert dates to datetime type\n",
    "lemonde_v2['date'] = pd.to_datetime(lemonde_v2['date'])\n",
    "\n",
    "# sort by date\n",
    "lemonde_v2.sort_values(by='date', inplace = True) \n",
    "\n",
    "# list of dates\n",
    "dates = list(lemonde_v2.date)\n",
    "dates = np.unique(dates)\n",
    "\n",
    "# drop unuseful columns\n",
    "del lemonde_v2['Unnamed: 0']"
   ]
  },
  {
   "cell_type": "code",
   "execution_count": 5,
   "metadata": {},
   "outputs": [
    {
     "data": {
      "text/html": [
       "<div>\n",
       "<style scoped>\n",
       "    .dataframe tbody tr th:only-of-type {\n",
       "        vertical-align: middle;\n",
       "    }\n",
       "\n",
       "    .dataframe tbody tr th {\n",
       "        vertical-align: top;\n",
       "    }\n",
       "\n",
       "    .dataframe thead th {\n",
       "        text-align: right;\n",
       "    }\n",
       "</style>\n",
       "<table border=\"1\" class=\"dataframe\">\n",
       "  <thead>\n",
       "    <tr style=\"text-align: right;\">\n",
       "      <th></th>\n",
       "      <th>date</th>\n",
       "      <th>publication</th>\n",
       "      <th>words</th>\n",
       "      <th>author</th>\n",
       "      <th>title</th>\n",
       "      <th>intro</th>\n",
       "    </tr>\n",
       "  </thead>\n",
       "  <tbody>\n",
       "    <tr>\n",
       "      <th>22</th>\n",
       "      <td>2013-01-05</td>\n",
       "      <td>Le Monde</td>\n",
       "      <td>401mots</td>\n",
       "      <td>Pierre Le Hir</td>\n",
       "      <td>Avec le réchauffement, les tourbières se trans...</td>\n",
       "      <td>...  pourraient se comporter non plus en pui...</td>\n",
       "    </tr>\n",
       "    <tr>\n",
       "      <th>11</th>\n",
       "      <td>2013-01-11</td>\n",
       "      <td>Le Monde</td>\n",
       "      <td>1066mots</td>\n",
       "      <td>Propos recueillis par Marie-Béatrice Baudet, D...</td>\n",
       "      <td>Christophe de Margerie : « Le changement clima...</td>\n",
       "      <td>...  population mondiale, 2 % des énergies p...</td>\n",
       "    </tr>\n",
       "    <tr>\n",
       "      <th>1</th>\n",
       "      <td>2013-01-16</td>\n",
       "      <td>Le Monde</td>\n",
       "      <td>324mots</td>\n",
       "      <td>P. L. H.</td>\n",
       "      <td>Transition énergétique : le clair-obscur de l'...</td>\n",
       "      <td>...  la transition énergétique n'a de vrai s...</td>\n",
       "    </tr>\n",
       "  </tbody>\n",
       "</table>\n",
       "</div>"
      ],
      "text/plain": [
       "         date publication     words  \\\n",
       "22 2013-01-05    Le Monde   401mots   \n",
       "11 2013-01-11    Le Monde  1066mots   \n",
       "1  2013-01-16    Le Monde   324mots   \n",
       "\n",
       "                                               author  \\\n",
       "22                                      Pierre Le Hir   \n",
       "11  Propos recueillis par Marie-Béatrice Baudet, D...   \n",
       "1                                            P. L. H.   \n",
       "\n",
       "                                                title  \\\n",
       "22  Avec le réchauffement, les tourbières se trans...   \n",
       "11  Christophe de Margerie : « Le changement clima...   \n",
       "1   Transition énergétique : le clair-obscur de l'...   \n",
       "\n",
       "                                                intro  \n",
       "22    ...  pourraient se comporter non plus en pui...  \n",
       "11    ...  population mondiale, 2 % des énergies p...  \n",
       "1     ...  la transition énergétique n'a de vrai s...  "
      ]
     },
     "execution_count": 5,
     "metadata": {},
     "output_type": "execute_result"
    }
   ],
   "source": [
    "lemonde_v2.head(3)"
   ]
  },
  {
   "cell_type": "code",
   "execution_count": 6,
   "metadata": {},
   "outputs": [],
   "source": [
    "lemonde_v2.to_csv('lemonde_v2.csv', index=False)"
   ]
  },
  {
   "cell_type": "markdown",
   "metadata": {},
   "source": [
    "### Libération"
   ]
  },
  {
   "cell_type": "code",
   "execution_count": 4,
   "metadata": {},
   "outputs": [],
   "source": [
    "# import data and concatenate into one dataframe\n",
    "\n",
    "# write your own path\n",
    "path = r'D:\\Alexandrine\\ENSAE\\PDSSS\\Projet-ENSAE-DSSS-main\\Projet-ENSAE-DSSS-main\\Data Collection\\Result\\Libération'\n",
    "all_files = glob.glob(os.path.join(path, \"*.csv\"))\n",
    "\n",
    "li = []\n",
    "\n",
    "for filename in all_files:\n",
    "    df = pd.read_csv(filename, index_col=None, header=0)\n",
    "    li.append(df)\n",
    "\n",
    "libé_df = pd.concat(li, axis=0, ignore_index=True)\n",
    "\n",
    "# convert dates to datetime type\n",
    "libé_df['date'] = pd.to_datetime(libé_df['date'])\n",
    "\n",
    "# sort by date\n",
    "libé_df.sort_values(by='date', inplace = True) \n",
    "\n",
    "# list of dates\n",
    "dates = list(libé_df.date)\n",
    "dates = np.unique(dates)\n",
    "\n",
    "# drop unuseful columns\n",
    "del libé_df['Unnamed: 0']"
   ]
  },
  {
   "cell_type": "code",
   "execution_count": 6,
   "metadata": {
    "scrolled": true
   },
   "outputs": [
    {
     "data": {
      "text/html": [
       "<div>\n",
       "<style scoped>\n",
       "    .dataframe tbody tr th:only-of-type {\n",
       "        vertical-align: middle;\n",
       "    }\n",
       "\n",
       "    .dataframe tbody tr th {\n",
       "        vertical-align: top;\n",
       "    }\n",
       "\n",
       "    .dataframe thead th {\n",
       "        text-align: right;\n",
       "    }\n",
       "</style>\n",
       "<table border=\"1\" class=\"dataframe\">\n",
       "  <thead>\n",
       "    <tr style=\"text-align: right;\">\n",
       "      <th></th>\n",
       "      <th>date</th>\n",
       "      <th>publication</th>\n",
       "      <th>words</th>\n",
       "      <th>author</th>\n",
       "      <th>title</th>\n",
       "      <th>intro</th>\n",
       "    </tr>\n",
       "  </thead>\n",
       "  <tbody>\n",
       "    <tr>\n",
       "      <th>164</th>\n",
       "      <td>2013-01-02</td>\n",
       "      <td>Libération</td>\n",
       "      <td>621mots</td>\n",
       "      <td>Samuel Lepastier</td>\n",
       "      <td>Evacuons le stress de la rentrée</td>\n",
       "      <td>...  de son mal : travail, chômage, retrai...</td>\n",
       "    </tr>\n",
       "    <tr>\n",
       "      <th>66</th>\n",
       "      <td>2013-01-02</td>\n",
       "      <td>Libération</td>\n",
       "      <td>638mots</td>\n",
       "      <td>Yannick JADOT</td>\n",
       "      <td>Sidérurgie : engageons un bras de fer européen</td>\n",
       "      <td>...  ses profits, l'industriel a même béné...</td>\n",
       "    </tr>\n",
       "    <tr>\n",
       "      <th>162</th>\n",
       "      <td>2013-01-03</td>\n",
       "      <td>Libération</td>\n",
       "      <td>590mots</td>\n",
       "      <td>Gérard Thomas|Corinne Bensimon|Eric Loret|Clai...</td>\n",
       "      <td>Livres. Vient de paraître...</td>\n",
       "      <td>...  dérives, pullulations ou raréfactions...</td>\n",
       "    </tr>\n",
       "  </tbody>\n",
       "</table>\n",
       "</div>"
      ],
      "text/plain": [
       "          date publication    words  \\\n",
       "164 2013-01-02  Libération  621mots   \n",
       "66  2013-01-02  Libération  638mots   \n",
       "162 2013-01-03  Libération  590mots   \n",
       "\n",
       "                                                author  \\\n",
       "164                                   Samuel Lepastier   \n",
       "66                                       Yannick JADOT   \n",
       "162  Gérard Thomas|Corinne Bensimon|Eric Loret|Clai...   \n",
       "\n",
       "                                              title  \\\n",
       "164                Evacuons le stress de la rentrée   \n",
       "66   Sidérurgie : engageons un bras de fer européen   \n",
       "162                    Livres. Vient de paraître...   \n",
       "\n",
       "                                                 intro  \n",
       "164      ...  de son mal : travail, chômage, retrai...  \n",
       "66       ...  ses profits, l'industriel a même béné...  \n",
       "162      ...  dérives, pullulations ou raréfactions...  "
      ]
     },
     "execution_count": 6,
     "metadata": {},
     "output_type": "execute_result"
    }
   ],
   "source": [
    "libé_df.head(3)"
   ]
  },
  {
   "cell_type": "code",
   "execution_count": 19,
   "metadata": {},
   "outputs": [],
   "source": [
    "libé_df.to_csv('libération_df.csv', index=False)"
   ]
  },
  {
   "cell_type": "markdown",
   "metadata": {},
   "source": [
    "### Les Echos"
   ]
  },
  {
   "cell_type": "code",
   "execution_count": 9,
   "metadata": {},
   "outputs": [],
   "source": [
    "# import data and concatenate into one dataframe\n",
    "\n",
    "# write your own path\n",
    "path = r'D:\\Alexandrine\\ENSAE\\PDSSS\\Projet-ENSAE-DSSS-main\\Projet-ENSAE-DSSS-main\\Data Collection\\Result\\Les Echos'\n",
    "all_files = glob.glob(os.path.join(path, \"*.csv\"))\n",
    "\n",
    "li = []\n",
    "\n",
    "for filename in all_files:\n",
    "    df = pd.read_csv(filename, index_col=None, header=0)\n",
    "    li.append(df)\n",
    "\n",
    "echos_df = pd.concat(li, axis=0, ignore_index=True)\n",
    "\n",
    "# convert dates to datetime type\n",
    "echos_df['date'] = pd.to_datetime(echos_df['date'])\n",
    "\n",
    "# sort by date\n",
    "echos_df.sort_values(by='date', inplace = True) \n",
    "\n",
    "# list of dates\n",
    "dates = list(echos_df.date)\n",
    "dates = np.unique(dates)\n",
    "\n",
    "# drop unuseful columns\n",
    "del echos_df['Unnamed: 0']"
   ]
  },
  {
   "cell_type": "code",
   "execution_count": 10,
   "metadata": {
    "scrolled": true
   },
   "outputs": [
    {
     "data": {
      "text/html": [
       "<div>\n",
       "<style scoped>\n",
       "    .dataframe tbody tr th:only-of-type {\n",
       "        vertical-align: middle;\n",
       "    }\n",
       "\n",
       "    .dataframe tbody tr th {\n",
       "        vertical-align: top;\n",
       "    }\n",
       "\n",
       "    .dataframe thead th {\n",
       "        text-align: right;\n",
       "    }\n",
       "</style>\n",
       "<table border=\"1\" class=\"dataframe\">\n",
       "  <thead>\n",
       "    <tr style=\"text-align: right;\">\n",
       "      <th></th>\n",
       "      <th>date</th>\n",
       "      <th>publication</th>\n",
       "      <th>words</th>\n",
       "      <th>author</th>\n",
       "      <th>title</th>\n",
       "      <th>intro</th>\n",
       "    </tr>\n",
       "  </thead>\n",
       "  <tbody>\n",
       "    <tr>\n",
       "      <th>142</th>\n",
       "      <td>2013-01-02</td>\n",
       "      <td>Les Echos</td>\n",
       "      <td>380mots</td>\n",
       "      <td>NaN</td>\n",
       "      <td>Le marché du minerai de fer fait le pari de la...</td>\n",
       "      <td>...  qui a contribué à réduire l'offre...</td>\n",
       "    </tr>\n",
       "    <tr>\n",
       "      <th>180</th>\n",
       "      <td>2013-01-02</td>\n",
       "      <td>Les Echos</td>\n",
       "      <td>432mots</td>\n",
       "      <td>NaN</td>\n",
       "      <td>Pour un choc d'efficacité énergétique</td>\n",
       "      <td>Impitoyable agenda médiatique : à pein...</td>\n",
       "    </tr>\n",
       "    <tr>\n",
       "      <th>194</th>\n",
       "      <td>2013-01-03</td>\n",
       "      <td>Les Echos</td>\n",
       "      <td>360mots</td>\n",
       "      <td>NaN</td>\n",
       "      <td>La production de machines-outils allemande s'e...</td>\n",
       "      <td>...  avec une part portée à 9,4 %. Out...</td>\n",
       "    </tr>\n",
       "  </tbody>\n",
       "</table>\n",
       "</div>"
      ],
      "text/plain": [
       "          date publication    words author  \\\n",
       "142 2013-01-02   Les Echos  380mots    NaN   \n",
       "180 2013-01-02   Les Echos  432mots    NaN   \n",
       "194 2013-01-03   Les Echos  360mots    NaN   \n",
       "\n",
       "                                                 title  \\\n",
       "142  Le marché du minerai de fer fait le pari de la...   \n",
       "180              Pour un choc d'efficacité énergétique   \n",
       "194  La production de machines-outils allemande s'e...   \n",
       "\n",
       "                                                 intro  \n",
       "142          ...  qui a contribué à réduire l'offre...  \n",
       "180          Impitoyable agenda médiatique : à pein...  \n",
       "194          ...  avec une part portée à 9,4 %. Out...  "
      ]
     },
     "execution_count": 10,
     "metadata": {},
     "output_type": "execute_result"
    }
   ],
   "source": [
    "echos_df.head(3)"
   ]
  },
  {
   "cell_type": "code",
   "execution_count": 20,
   "metadata": {},
   "outputs": [],
   "source": [
    "echos_df.to_csv('lesechos_df.csv', index=False)"
   ]
  },
  {
   "cell_type": "markdown",
   "metadata": {},
   "source": [
    "### La Croix"
   ]
  },
  {
   "cell_type": "code",
   "execution_count": 11,
   "metadata": {},
   "outputs": [],
   "source": [
    "# import data and concatenate into one dataframe\n",
    "\n",
    "# write your own path\n",
    "path = r'D:\\Alexandrine\\ENSAE\\PDSSS\\Projet-ENSAE-DSSS-main\\Projet-ENSAE-DSSS-main\\Data Collection\\Result\\La Croix'\n",
    "all_files = glob.glob(os.path.join(path, \"*.csv\"))\n",
    "\n",
    "li = []\n",
    "\n",
    "for filename in all_files:\n",
    "    df = pd.read_csv(filename, index_col=None, header=0)\n",
    "    li.append(df)\n",
    "\n",
    "lacroix_df = pd.concat(li, axis=0, ignore_index=True)\n",
    "\n",
    "# convert dates to datetime type\n",
    "lacroix_df['date'] = pd.to_datetime(lacroix_df['date'])\n",
    "\n",
    "# sort by date\n",
    "lacroix_df.sort_values(by='date', inplace = True) \n",
    "\n",
    "# list of dates\n",
    "dates = list(lacroix_df.date)\n",
    "dates = np.unique(dates)\n",
    "\n",
    "# drop unuseful columns\n",
    "del lacroix_df['Unnamed: 0']"
   ]
  },
  {
   "cell_type": "code",
   "execution_count": 12,
   "metadata": {},
   "outputs": [
    {
     "data": {
      "text/html": [
       "<div>\n",
       "<style scoped>\n",
       "    .dataframe tbody tr th:only-of-type {\n",
       "        vertical-align: middle;\n",
       "    }\n",
       "\n",
       "    .dataframe tbody tr th {\n",
       "        vertical-align: top;\n",
       "    }\n",
       "\n",
       "    .dataframe thead th {\n",
       "        text-align: right;\n",
       "    }\n",
       "</style>\n",
       "<table border=\"1\" class=\"dataframe\">\n",
       "  <thead>\n",
       "    <tr style=\"text-align: right;\">\n",
       "      <th></th>\n",
       "      <th>date</th>\n",
       "      <th>publication</th>\n",
       "      <th>words</th>\n",
       "      <th>author</th>\n",
       "      <th>title</th>\n",
       "      <th>intro</th>\n",
       "    </tr>\n",
       "  </thead>\n",
       "  <tbody>\n",
       "    <tr>\n",
       "      <th>70</th>\n",
       "      <td>2013-01-02</td>\n",
       "      <td>La Croix</td>\n",
       "      <td>779mots</td>\n",
       "      <td>GIULIANI Emmanuelle</td>\n",
       "      <td>Entretien. Georges Prêtre, chef d'orchestre : ...</td>\n",
       "      <td>...  de la précédente et il revient au che...</td>\n",
       "    </tr>\n",
       "    <tr>\n",
       "      <th>91</th>\n",
       "      <td>2013-01-02</td>\n",
       "      <td>La Croix</td>\n",
       "      <td>441mots</td>\n",
       "      <td>SCHLUMBERGER Laurent</td>\n",
       "      <td>Opinion. Pour une limite des rémunérations. La...</td>\n",
       "      <td>...  L'action économique des dirigeants po...</td>\n",
       "    </tr>\n",
       "    <tr>\n",
       "      <th>142</th>\n",
       "      <td>2013-01-03</td>\n",
       "      <td>La Croix</td>\n",
       "      <td>366mots</td>\n",
       "      <td>BIASSETTE Gilles</td>\n",
       "      <td>Roman. Haïti en proie à ses démons</td>\n",
       "      <td>...  Canaan. Comme dans  Saisons sauvages,...</td>\n",
       "    </tr>\n",
       "  </tbody>\n",
       "</table>\n",
       "</div>"
      ],
      "text/plain": [
       "          date publication    words                author  \\\n",
       "70  2013-01-02    La Croix  779mots   GIULIANI Emmanuelle   \n",
       "91  2013-01-02    La Croix  441mots  SCHLUMBERGER Laurent   \n",
       "142 2013-01-03    La Croix  366mots      BIASSETTE Gilles   \n",
       "\n",
       "                                                 title  \\\n",
       "70   Entretien. Georges Prêtre, chef d'orchestre : ...   \n",
       "91   Opinion. Pour une limite des rémunérations. La...   \n",
       "142                 Roman. Haïti en proie à ses démons   \n",
       "\n",
       "                                                 intro  \n",
       "70       ...  de la précédente et il revient au che...  \n",
       "91       ...  L'action économique des dirigeants po...  \n",
       "142      ...  Canaan. Comme dans  Saisons sauvages,...  "
      ]
     },
     "execution_count": 12,
     "metadata": {},
     "output_type": "execute_result"
    }
   ],
   "source": [
    "lacroix_df.head(3)"
   ]
  },
  {
   "cell_type": "code",
   "execution_count": 21,
   "metadata": {},
   "outputs": [],
   "source": [
    "lacroix_df.to_csv('lacroix_df.csv', index=False)"
   ]
  },
  {
   "cell_type": "code",
   "execution_count": null,
   "metadata": {},
   "outputs": [],
   "source": []
  }
 ],
 "metadata": {
  "kernelspec": {
   "display_name": "Python 3",
   "language": "python",
   "name": "python3"
  },
  "language_info": {
   "codemirror_mode": {
    "name": "ipython",
    "version": 3
   },
   "file_extension": ".py",
   "mimetype": "text/x-python",
   "name": "python",
   "nbconvert_exporter": "python",
   "pygments_lexer": "ipython3",
   "version": "3.8.5"
  }
 },
 "nbformat": 4,
 "nbformat_minor": 4
}
